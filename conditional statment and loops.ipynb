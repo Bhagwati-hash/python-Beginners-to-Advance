{
 "cells": [
  {
   "cell_type": "markdown",
   "id": "21ee2fcd",
   "metadata": {},
   "source": [
    "# conditional statement"
   ]
  },
  {
   "cell_type": "code",
   "execution_count": 1,
   "id": "d273b929",
   "metadata": {},
   "outputs": [],
   "source": [
    "product=\"term\""
   ]
  },
  {
   "cell_type": "code",
   "execution_count": 2,
   "id": "3a4c9b19",
   "metadata": {},
   "outputs": [
    {
     "name": "stdout",
     "output_type": "stream",
     "text": [
      "term insurance\n"
     ]
    }
   ],
   "source": [
    "if product=='va':\n",
    "    print('variable annuity')\n",
    "    \n",
    "elif product=='ia':\n",
    "    print('index annuity')\n",
    "elif product=='term':\n",
    "    print('term insurance')\n",
    "else:\n",
    "    print('we dont have such product or we dont have a product you want')"
   ]
  },
  {
   "cell_type": "code",
   "execution_count": 3,
   "id": "42a591cd",
   "metadata": {},
   "outputs": [
    {
     "name": "stdout",
     "output_type": "stream",
     "text": [
      "Enter your age34\n"
     ]
    }
   ],
   "source": [
    "#input function\n",
    "x=input('Enter your age')"
   ]
  },
  {
   "cell_type": "code",
   "execution_count": 4,
   "id": "d7ed7e97",
   "metadata": {},
   "outputs": [
    {
     "data": {
      "text/plain": [
       "'34'"
      ]
     },
     "execution_count": 4,
     "metadata": {},
     "output_type": "execute_result"
    }
   ],
   "source": [
    "x"
   ]
  },
  {
   "cell_type": "code",
   "execution_count": 5,
   "id": "1a4b7e5c",
   "metadata": {},
   "outputs": [
    {
     "name": "stdout",
     "output_type": "stream",
     "text": [
      "enter your age56\n"
     ]
    }
   ],
   "source": [
    "x=int(input('enter your age'))"
   ]
  },
  {
   "cell_type": "code",
   "execution_count": 6,
   "id": "13f1b741",
   "metadata": {},
   "outputs": [
    {
     "data": {
      "text/plain": [
       "int"
      ]
     },
     "execution_count": 6,
     "metadata": {},
     "output_type": "execute_result"
    }
   ],
   "source": [
    "type(x)"
   ]
  },
  {
   "cell_type": "code",
   "execution_count": 7,
   "id": "bfc67185",
   "metadata": {},
   "outputs": [],
   "source": [
    "#casino"
   ]
  },
  {
   "cell_type": "code",
   "execution_count": 8,
   "id": "6b99e11b",
   "metadata": {},
   "outputs": [
    {
     "name": "stdout",
     "output_type": "stream",
     "text": [
      "Enter your age my friend?\n",
      "45\n"
     ]
    }
   ],
   "source": [
    "x=int(input('Enter your age my friend?\\n'))\n",
    "\n"
   ]
  },
  {
   "cell_type": "code",
   "execution_count": 9,
   "id": "79be996c",
   "metadata": {},
   "outputs": [
    {
     "name": "stdout",
     "output_type": "stream",
     "text": [
      "welcome to casino have fun\n"
     ]
    }
   ],
   "source": [
    "if x>=21:\n",
    "    print('welcome to casino have fun')\n",
    "elif x>=18<21:\n",
    "    print('youe are an adult but not allowed in casino wait for few more years')\n",
    "else:\n",
    "    print('you are not allowed in casino ! go home')"
   ]
  },
  {
   "cell_type": "markdown",
   "id": "a5d52d98",
   "metadata": {},
   "source": [
    "**For loops**"
   ]
  },
  {
   "cell_type": "code",
   "execution_count": 10,
   "id": "a5d98845",
   "metadata": {},
   "outputs": [],
   "source": [
    "product=['UL','BONDS','TERM INSURRANE','INDEX LINKED']"
   ]
  },
  {
   "cell_type": "code",
   "execution_count": 11,
   "id": "22d47b12",
   "metadata": {},
   "outputs": [
    {
     "name": "stdout",
     "output_type": "stream",
     "text": [
      "UL\n",
      "BONDS\n",
      "TERM INSURRANE\n",
      "INDEX LINKED\n",
      "done\n"
     ]
    }
   ],
   "source": [
    "for i in product:\n",
    "    print(i)\n",
    "print('done')"
   ]
  },
  {
   "cell_type": "code",
   "execution_count": 12,
   "id": "f13de27d",
   "metadata": {},
   "outputs": [
    {
     "name": "stdout",
     "output_type": "stream",
     "text": [
      "UL\n",
      "done\n",
      "BONDS\n",
      "done\n",
      "TERM INSURRANE\n",
      "done\n",
      "INDEX LINKED\n",
      "done\n"
     ]
    }
   ],
   "source": [
    "for i in product:\n",
    "    print(i)\n",
    "    print('done')"
   ]
  },
  {
   "cell_type": "code",
   "execution_count": 13,
   "id": "00a5ab7e",
   "metadata": {},
   "outputs": [],
   "source": [
    "my_list=[1,2,3,4,5,6,7]"
   ]
  },
  {
   "cell_type": "code",
   "execution_count": 14,
   "id": "680dff5a",
   "metadata": {},
   "outputs": [
    {
     "name": "stdout",
     "output_type": "stream",
     "text": [
      "1\n",
      "2\n",
      "3\n",
      "4\n",
      "5\n",
      "6\n",
      "7\n"
     ]
    }
   ],
   "source": [
    "for x in my_list:\n",
    "    print(x)"
   ]
  },
  {
   "cell_type": "code",
   "execution_count": 15,
   "id": "3b56f498",
   "metadata": {},
   "outputs": [],
   "source": [
    "#i want to see even nubers only"
   ]
  },
  {
   "cell_type": "code",
   "execution_count": 16,
   "id": "0849f2c5",
   "metadata": {},
   "outputs": [
    {
     "name": "stdout",
     "output_type": "stream",
     "text": [
      "2\n",
      "4\n",
      "6\n"
     ]
    }
   ],
   "source": [
    "for i in my_list:\n",
    "    if i%2==0:\n",
    "        print(i)"
   ]
  },
  {
   "cell_type": "code",
   "execution_count": 17,
   "id": "6f9b512b",
   "metadata": {},
   "outputs": [
    {
     "name": "stdout",
     "output_type": "stream",
     "text": [
      "1\n",
      "3\n",
      "5\n",
      "7\n"
     ]
    }
   ],
   "source": [
    "#odd number \n",
    "for i in my_list:\n",
    "    if i%2!=0:\n",
    "        print(i)"
   ]
  },
  {
   "cell_type": "code",
   "execution_count": 18,
   "id": "69283aa0",
   "metadata": {},
   "outputs": [
    {
     "name": "stdout",
     "output_type": "stream",
     "text": [
      "28\n"
     ]
    }
   ],
   "source": [
    "#total of items in my_list\n",
    "total=0\n",
    "for i in my_list:\n",
    "    total=total+i\n",
    "print(total)\n"
   ]
  },
  {
   "cell_type": "code",
   "execution_count": 19,
   "id": "6fb4e43e",
   "metadata": {},
   "outputs": [
    {
     "name": "stdout",
     "output_type": "stream",
     "text": [
      "5040\n"
     ]
    }
   ],
   "source": [
    "#multiplication\n",
    "total=1\n",
    "for i in my_list:\n",
    "    total=total*i\n",
    "print(total)"
   ]
  },
  {
   "cell_type": "code",
   "execution_count": 20,
   "id": "9a6c9626",
   "metadata": {},
   "outputs": [
    {
     "name": "stdout",
     "output_type": "stream",
     "text": [
      "H\n",
      "A\n",
      "P\n",
      "P\n",
      "Y\n",
      " \n",
      "B\n",
      "I\n",
      "R\n",
      "T\n",
      "H\n",
      "D\n",
      "A\n",
      "Y\n"
     ]
    }
   ],
   "source": [
    "#for loops in case of strings\n",
    "for i in 'HAPPY BIRTHDAY':\n",
    "    print(i)"
   ]
  },
  {
   "cell_type": "code",
   "execution_count": 21,
   "id": "fb07213b",
   "metadata": {},
   "outputs": [],
   "source": [
    "#for loops with a tuple\n",
    "my_assumption=[('discount rate',3.5),('mortality rate','AM92'),('reporting','solvancyii')]"
   ]
  },
  {
   "cell_type": "code",
   "execution_count": 22,
   "id": "254fe04b",
   "metadata": {},
   "outputs": [
    {
     "name": "stdout",
     "output_type": "stream",
     "text": [
      "('discount rate', 3.5)\n",
      "('mortality rate', 'AM92')\n",
      "('reporting', 'solvancyii')\n"
     ]
    }
   ],
   "source": [
    "for i in my_assumption:\n",
    "    print(i)"
   ]
  },
  {
   "cell_type": "code",
   "execution_count": 23,
   "id": "428cf9bf",
   "metadata": {},
   "outputs": [
    {
     "name": "stdout",
     "output_type": "stream",
     "text": [
      "discount rate\n",
      "3.5\n",
      "mortality rate\n",
      "AM92\n",
      "reporting\n",
      "solvancyii\n"
     ]
    }
   ],
   "source": [
    "#tuple unpacking\n",
    "for name,val in my_assumption:\n",
    "    print(name)\n",
    "    print(val)"
   ]
  },
  {
   "cell_type": "code",
   "execution_count": 24,
   "id": "42562de2",
   "metadata": {},
   "outputs": [],
   "source": [
    "# for loop with dictionary"
   ]
  },
  {
   "cell_type": "code",
   "execution_count": 25,
   "id": "f06af232",
   "metadata": {},
   "outputs": [],
   "source": [
    "d1={'fruit':'mango','age':34,'colour':'pink','country':'india'}\n"
   ]
  },
  {
   "cell_type": "code",
   "execution_count": 26,
   "id": "05315df5",
   "metadata": {},
   "outputs": [
    {
     "name": "stdout",
     "output_type": "stream",
     "text": [
      "fruit\n",
      "age\n",
      "colour\n",
      "country\n"
     ]
    }
   ],
   "source": [
    "for i in d1:\n",
    "    print(i)"
   ]
  },
  {
   "cell_type": "code",
   "execution_count": 27,
   "id": "6eca9400",
   "metadata": {},
   "outputs": [
    {
     "data": {
      "text/plain": [
       "dict_items([('fruit', 'mango'), ('age', 34), ('colour', 'pink'), ('country', 'india')])"
      ]
     },
     "execution_count": 27,
     "metadata": {},
     "output_type": "execute_result"
    }
   ],
   "source": [
    "#dictionary unpacking\n",
    "d1.items()"
   ]
  },
  {
   "cell_type": "code",
   "execution_count": 28,
   "id": "7543b71f",
   "metadata": {},
   "outputs": [
    {
     "name": "stdout",
     "output_type": "stream",
     "text": [
      "mango\n",
      "34\n",
      "pink\n",
      "india\n"
     ]
    }
   ],
   "source": [
    "for x,y in d1.items():\n",
    "    print(y)"
   ]
  },
  {
   "cell_type": "code",
   "execution_count": 30,
   "id": "60ec9ce2",
   "metadata": {},
   "outputs": [
    {
     "data": {
      "text/plain": [
       "[0, 1, 2, 3, 4, 5, 6, 7, 8, 9]"
      ]
     },
     "execution_count": 30,
     "metadata": {},
     "output_type": "execute_result"
    }
   ],
   "source": [
    "#range\n",
    "list(range(10))"
   ]
  },
  {
   "cell_type": "code",
   "execution_count": 31,
   "id": "7d08bbff",
   "metadata": {},
   "outputs": [
    {
     "data": {
      "text/plain": [
       "range(0, 10)"
      ]
     },
     "execution_count": 31,
     "metadata": {},
     "output_type": "execute_result"
    }
   ],
   "source": [
    "range(0,10)"
   ]
  },
  {
   "cell_type": "code",
   "execution_count": 32,
   "id": "72206886",
   "metadata": {},
   "outputs": [
    {
     "data": {
      "text/plain": [
       "[0, 1, 2, 3, 4, 5, 6, 7, 8, 9]"
      ]
     },
     "execution_count": 32,
     "metadata": {},
     "output_type": "execute_result"
    }
   ],
   "source": [
    "list(range(0,10))"
   ]
  },
  {
   "cell_type": "code",
   "execution_count": 35,
   "id": "625bce75",
   "metadata": {},
   "outputs": [
    {
     "name": "stdout",
     "output_type": "stream",
     "text": [
      "15\n"
     ]
    }
   ],
   "source": [
    "#sum of n natural numbers\n",
    "x=5\n",
    "total=0\n",
    "for i in range(0,x+1):\n",
    "    total=total+i\n",
    "print(total)\n"
   ]
  },
  {
   "cell_type": "code",
   "execution_count": 36,
   "id": "fc182b22",
   "metadata": {},
   "outputs": [
    {
     "name": "stdout",
     "output_type": "stream",
     "text": [
      "enter the number\n",
      "15\n",
      "120\n"
     ]
    }
   ],
   "source": [
    "x=int(input('enter the number\\n'))\n",
    "total=0\n",
    "for i in range(0,x+1):\n",
    "    total=total+i\n",
    "print(total)\n"
   ]
  },
  {
   "cell_type": "code",
   "execution_count": 39,
   "id": "75c99d17",
   "metadata": {},
   "outputs": [
    {
     "name": "stdout",
     "output_type": "stream",
     "text": [
      "enter the number\n",
      "5\n",
      "120\n"
     ]
    }
   ],
   "source": [
    "#factorial of n  natural numbers\n",
    "x=int(input('enter the number\\n'))\n",
    "total=1\n",
    "for i in range(1,x+1):\n",
    "    total=total*i\n",
    "print(total)\n"
   ]
  },
  {
   "cell_type": "markdown",
   "id": "24caa79b",
   "metadata": {},
   "source": [
    "**While loops**"
   ]
  },
  {
   "cell_type": "code",
   "execution_count": 40,
   "id": "f7bb39bc",
   "metadata": {},
   "outputs": [
    {
     "name": "stdout",
     "output_type": "stream",
     "text": [
      "0\n",
      "1\n",
      "2\n",
      "3\n",
      "4\n",
      "5\n",
      "6\n"
     ]
    }
   ],
   "source": [
    "i=0\n",
    "while i<7:\n",
    "    print(i)\n",
    "    i=i+1"
   ]
  },
  {
   "cell_type": "markdown",
   "id": "8cacb46c",
   "metadata": {},
   "source": [
    "**Break continue pass**"
   ]
  },
  {
   "cell_type": "code",
   "execution_count": 42,
   "id": "b18d2d06",
   "metadata": {},
   "outputs": [
    {
     "name": "stdout",
     "output_type": "stream",
     "text": [
      "0\n",
      "go on\n",
      "1\n",
      "go on\n",
      "2\n",
      "go on\n",
      "3\n",
      "go on\n",
      "4\n",
      "go on\n",
      "5\n"
     ]
    }
   ],
   "source": [
    "value=0\n",
    "while value<10:\n",
    "    print(value)\n",
    "    value=value+1\n",
    "    if value==6:\n",
    "        break\n",
    "    else:\n",
    "        print('go on')"
   ]
  },
  {
   "cell_type": "code",
   "execution_count": 44,
   "id": "4419ab81",
   "metadata": {},
   "outputs": [],
   "source": [
    "my_lisst=[1,2,3,4,5,6]"
   ]
  },
  {
   "cell_type": "markdown",
   "id": "05238a42",
   "metadata": {},
   "source": [
    "**continue**"
   ]
  },
  {
   "cell_type": "code",
   "execution_count": 45,
   "id": "8b50224e",
   "metadata": {},
   "outputs": [
    {
     "name": "stdout",
     "output_type": "stream",
     "text": [
      "1\n",
      "2\n",
      "3\n",
      "5\n",
      "6\n"
     ]
    }
   ],
   "source": [
    "for i in my_lisst:\n",
    "    if i==4:\n",
    "        continue\n",
    "    else:\n",
    "        print(i)"
   ]
  },
  {
   "cell_type": "markdown",
   "id": "cd7c4d8d",
   "metadata": {},
   "source": [
    "**pass**"
   ]
  },
  {
   "cell_type": "code",
   "execution_count": 48,
   "id": "1e0d1b33",
   "metadata": {},
   "outputs": [],
   "source": [
    "x=30\n",
    "if x<20:\n",
    "    print('right')\n",
    "else:\n",
    "    pass"
   ]
  },
  {
   "cell_type": "code",
   "execution_count": null,
   "id": "60e7d9d8",
   "metadata": {},
   "outputs": [],
   "source": []
  }
 ],
 "metadata": {
  "kernelspec": {
   "display_name": "Python 3",
   "language": "python",
   "name": "python3"
  },
  "language_info": {
   "codemirror_mode": {
    "name": "ipython",
    "version": 3
   },
   "file_extension": ".py",
   "mimetype": "text/x-python",
   "name": "python",
   "nbconvert_exporter": "python",
   "pygments_lexer": "ipython3",
   "version": "3.8.8"
  }
 },
 "nbformat": 4,
 "nbformat_minor": 5
}
