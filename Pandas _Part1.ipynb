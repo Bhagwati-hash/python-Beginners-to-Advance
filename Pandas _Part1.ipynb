{
 "cells": [
  {
   "cell_type": "markdown",
   "id": "b47f1499",
   "metadata": {},
   "source": [
    "**Pandas**"
   ]
  },
  {
   "cell_type": "markdown",
   "id": "e9b1973c",
   "metadata": {},
   "source": [
    "**it is used for datya analysis and it is the most important library for actuaries.It is like the best version of excel which has some amazing features**"
   ]
  },
  {
   "cell_type": "markdown",
   "id": "83b3ce6b",
   "metadata": {},
   "source": [
    "1. series\n",
    "2. data frame"
   ]
  },
  {
   "cell_type": "markdown",
   "id": "ab699e60",
   "metadata": {},
   "source": [
    "# series"
   ]
  },
  {
   "cell_type": "code",
   "execution_count": 1,
   "id": "c138d0a7",
   "metadata": {},
   "outputs": [],
   "source": [
    "import pandas as pd\n",
    "import numpy as np"
   ]
  },
  {
   "cell_type": "code",
   "execution_count": 2,
   "id": "f1ea49b7",
   "metadata": {},
   "outputs": [],
   "source": [
    "labels=['a','b','c','d']\n",
    "new_list=[10,20,30,40]\n",
    "new_array=np.array([20,30,40,50])\n",
    "dict={'fruit':'mango','quantity':'30kgs','variety':'dashari'}"
   ]
  },
  {
   "cell_type": "code",
   "execution_count": 3,
   "id": "1f84348d",
   "metadata": {},
   "outputs": [
    {
     "data": {
      "text/plain": [
       "0    a\n",
       "1    b\n",
       "2    c\n",
       "3    d\n",
       "dtype: object"
      ]
     },
     "execution_count": 3,
     "metadata": {},
     "output_type": "execute_result"
    }
   ],
   "source": [
    "#first series\n",
    "pd.Series(data=labels)"
   ]
  },
  {
   "cell_type": "code",
   "execution_count": 4,
   "id": "eac8caae",
   "metadata": {},
   "outputs": [
    {
     "data": {
      "text/plain": [
       "10    a\n",
       "20    b\n",
       "30    c\n",
       "40    d\n",
       "dtype: object"
      ]
     },
     "execution_count": 4,
     "metadata": {},
     "output_type": "execute_result"
    }
   ],
   "source": [
    "pd.Series(data=labels,index=new_list)"
   ]
  },
  {
   "cell_type": "code",
   "execution_count": 5,
   "id": "34794be9",
   "metadata": {},
   "outputs": [
    {
     "data": {
      "text/plain": [
       "20    a\n",
       "30    b\n",
       "40    c\n",
       "50    d\n",
       "dtype: object"
      ]
     },
     "execution_count": 5,
     "metadata": {},
     "output_type": "execute_result"
    }
   ],
   "source": [
    "pd.Series(labels,new_array)"
   ]
  },
  {
   "cell_type": "code",
   "execution_count": 6,
   "id": "6bc6898f",
   "metadata": {},
   "outputs": [
    {
     "data": {
      "text/plain": [
       "fruit         mango\n",
       "quantity      30kgs\n",
       "variety     dashari\n",
       "dtype: object"
      ]
     },
     "execution_count": 6,
     "metadata": {},
     "output_type": "execute_result"
    }
   ],
   "source": [
    "pd.Series(dict)"
   ]
  },
  {
   "cell_type": "code",
   "execution_count": 7,
   "id": "c58c827a",
   "metadata": {},
   "outputs": [],
   "source": [
    "#series from scratch\n",
    "nominal_GDP=pd.Series(data=[25,15,8,5],index=(\"USA\",'china','hungry','india'))"
   ]
  },
  {
   "cell_type": "code",
   "execution_count": 8,
   "id": "1b4cd0f7",
   "metadata": {},
   "outputs": [
    {
     "data": {
      "text/plain": [
       "USA       25\n",
       "china     15\n",
       "hungry     8\n",
       "india      5\n",
       "dtype: int64"
      ]
     },
     "execution_count": 8,
     "metadata": {},
     "output_type": "execute_result"
    }
   ],
   "source": [
    "nominal_GDP"
   ]
  },
  {
   "cell_type": "code",
   "execution_count": 9,
   "id": "54843499",
   "metadata": {},
   "outputs": [],
   "source": [
    "#real gdp is nominal - inflation\n",
    "#creta real gdp \n",
    "real_GDP=pd.Series(data=[20,10,5,2.5],index=('USA','china','hungry','india'))"
   ]
  },
  {
   "cell_type": "code",
   "execution_count": 10,
   "id": "305a5b2e",
   "metadata": {},
   "outputs": [
    {
     "data": {
      "text/plain": [
       "USA       20.0\n",
       "china     10.0\n",
       "hungry     5.0\n",
       "india      2.5\n",
       "dtype: float64"
      ]
     },
     "execution_count": 10,
     "metadata": {},
     "output_type": "execute_result"
    }
   ],
   "source": [
    "real_GDP"
   ]
  },
  {
   "cell_type": "code",
   "execution_count": 11,
   "id": "8b102626",
   "metadata": {},
   "outputs": [],
   "source": [
    "#inflation calculation\n",
    "#inflation= nomianal-real\n",
    "inflation=nominal_GDP-real_GDP"
   ]
  },
  {
   "cell_type": "code",
   "execution_count": 12,
   "id": "9a5c5093",
   "metadata": {},
   "outputs": [
    {
     "data": {
      "text/plain": [
       "USA       5.0\n",
       "china     5.0\n",
       "hungry    3.0\n",
       "india     2.5\n",
       "dtype: float64"
      ]
     },
     "execution_count": 12,
     "metadata": {},
     "output_type": "execute_result"
    }
   ],
   "source": [
    "inflation"
   ]
  },
  {
   "cell_type": "code",
   "execution_count": 13,
   "id": "6e9ebeb8",
   "metadata": {},
   "outputs": [
    {
     "data": {
      "text/plain": [
       "5"
      ]
     },
     "execution_count": 13,
     "metadata": {},
     "output_type": "execute_result"
    }
   ],
   "source": [
    "nominal_GDP['india']"
   ]
  },
  {
   "cell_type": "markdown",
   "id": "8082197a",
   "metadata": {},
   "source": [
    "# data frame"
   ]
  },
  {
   "cell_type": "markdown",
   "id": "107cc038",
   "metadata": {},
   "source": [
    "1. how to create a data frame\n",
    "2. indexing and slicing\n",
    "\n",
    "   A. how to select a column\n",
    "   \n",
    "     a. single column,multiple column\n",
    "     \n",
    "     b. adding a column , deleting a coloumn, do this permanently\n",
    "   B. how to select a row\n",
    "   \n",
    "     a. loc and iloc method\n",
    "     \n",
    "     b. single rows , multiple rows\n",
    "   c. how to specific rows and columns\n",
    "   \n",
    "3. filtering your data frame filtring based on conditions\n",
    "\n",
    "   A. filtring based on numbers-single,multiple values\n",
    "   \n",
    "   B. filtering based on values-single , multiple values\n",
    "   \n",
    "4. index knowledge\n",
    "\n",
    "   A. reset index\n",
    "   \n",
    "   B. set index\n",
    "   \n",
    "   c. multiple index\n",
    "   \n",
    "     a. crossection"
   ]
  },
  {
   "cell_type": "code",
   "execution_count": 14,
   "id": "b2b137d0",
   "metadata": {},
   "outputs": [],
   "source": [
    "from numpy.random import randn"
   ]
  },
  {
   "cell_type": "code",
   "execution_count": 15,
   "id": "23d62000",
   "metadata": {},
   "outputs": [
    {
     "data": {
      "text/html": [
       "<div>\n",
       "<style scoped>\n",
       "    .dataframe tbody tr th:only-of-type {\n",
       "        vertical-align: middle;\n",
       "    }\n",
       "\n",
       "    .dataframe tbody tr th {\n",
       "        vertical-align: top;\n",
       "    }\n",
       "\n",
       "    .dataframe thead th {\n",
       "        text-align: right;\n",
       "    }\n",
       "</style>\n",
       "<table border=\"1\" class=\"dataframe\">\n",
       "  <thead>\n",
       "    <tr style=\"text-align: right;\">\n",
       "      <th></th>\n",
       "      <th>0</th>\n",
       "      <th>1</th>\n",
       "      <th>2</th>\n",
       "    </tr>\n",
       "  </thead>\n",
       "  <tbody>\n",
       "    <tr>\n",
       "      <th>0</th>\n",
       "      <td>-0.422651</td>\n",
       "      <td>-0.399635</td>\n",
       "      <td>-1.354425</td>\n",
       "    </tr>\n",
       "    <tr>\n",
       "      <th>1</th>\n",
       "      <td>0.783760</td>\n",
       "      <td>-0.124426</td>\n",
       "      <td>-1.034673</td>\n",
       "    </tr>\n",
       "    <tr>\n",
       "      <th>2</th>\n",
       "      <td>-0.890073</td>\n",
       "      <td>-1.008810</td>\n",
       "      <td>1.235264</td>\n",
       "    </tr>\n",
       "    <tr>\n",
       "      <th>3</th>\n",
       "      <td>0.260362</td>\n",
       "      <td>1.731027</td>\n",
       "      <td>1.474625</td>\n",
       "    </tr>\n",
       "  </tbody>\n",
       "</table>\n",
       "</div>"
      ],
      "text/plain": [
       "          0         1         2\n",
       "0 -0.422651 -0.399635 -1.354425\n",
       "1  0.783760 -0.124426 -1.034673\n",
       "2 -0.890073 -1.008810  1.235264\n",
       "3  0.260362  1.731027  1.474625"
      ]
     },
     "execution_count": 15,
     "metadata": {},
     "output_type": "execute_result"
    }
   ],
   "source": [
    "#we will crete data frame\n",
    "pd.DataFrame(data=randn(4,3))"
   ]
  },
  {
   "cell_type": "code",
   "execution_count": 16,
   "id": "9fc4e76c",
   "metadata": {},
   "outputs": [],
   "source": [
    "df=pd.DataFrame(data=randn(4,3),index=['a','b','c','d'],columns=['x','y','z'])"
   ]
  },
  {
   "cell_type": "code",
   "execution_count": 17,
   "id": "5d9e6f5d",
   "metadata": {},
   "outputs": [
    {
     "data": {
      "text/html": [
       "<div>\n",
       "<style scoped>\n",
       "    .dataframe tbody tr th:only-of-type {\n",
       "        vertical-align: middle;\n",
       "    }\n",
       "\n",
       "    .dataframe tbody tr th {\n",
       "        vertical-align: top;\n",
       "    }\n",
       "\n",
       "    .dataframe thead th {\n",
       "        text-align: right;\n",
       "    }\n",
       "</style>\n",
       "<table border=\"1\" class=\"dataframe\">\n",
       "  <thead>\n",
       "    <tr style=\"text-align: right;\">\n",
       "      <th></th>\n",
       "      <th>x</th>\n",
       "      <th>y</th>\n",
       "      <th>z</th>\n",
       "    </tr>\n",
       "  </thead>\n",
       "  <tbody>\n",
       "    <tr>\n",
       "      <th>a</th>\n",
       "      <td>-0.166409</td>\n",
       "      <td>-1.106290</td>\n",
       "      <td>0.050869</td>\n",
       "    </tr>\n",
       "    <tr>\n",
       "      <th>b</th>\n",
       "      <td>-0.598395</td>\n",
       "      <td>0.673302</td>\n",
       "      <td>-1.909231</td>\n",
       "    </tr>\n",
       "    <tr>\n",
       "      <th>c</th>\n",
       "      <td>-0.698391</td>\n",
       "      <td>-1.085456</td>\n",
       "      <td>1.322230</td>\n",
       "    </tr>\n",
       "    <tr>\n",
       "      <th>d</th>\n",
       "      <td>0.818763</td>\n",
       "      <td>-0.939791</td>\n",
       "      <td>2.655465</td>\n",
       "    </tr>\n",
       "  </tbody>\n",
       "</table>\n",
       "</div>"
      ],
      "text/plain": [
       "          x         y         z\n",
       "a -0.166409 -1.106290  0.050869\n",
       "b -0.598395  0.673302 -1.909231\n",
       "c -0.698391 -1.085456  1.322230\n",
       "d  0.818763 -0.939791  2.655465"
      ]
     },
     "execution_count": 17,
     "metadata": {},
     "output_type": "execute_result"
    }
   ],
   "source": [
    "df"
   ]
  },
  {
   "cell_type": "markdown",
   "id": "52a24fad",
   "metadata": {},
   "source": [
    "**indexing and slicing**"
   ]
  },
  {
   "cell_type": "code",
   "execution_count": 18,
   "id": "615020ee",
   "metadata": {},
   "outputs": [
    {
     "data": {
      "text/plain": [
       "a   -0.166409\n",
       "b   -0.598395\n",
       "c   -0.698391\n",
       "d    0.818763\n",
       "Name: x, dtype: float64"
      ]
     },
     "execution_count": 18,
     "metadata": {},
     "output_type": "execute_result"
    }
   ],
   "source": [
    "#single column\n",
    "df['x']"
   ]
  },
  {
   "cell_type": "code",
   "execution_count": 19,
   "id": "49032d73",
   "metadata": {},
   "outputs": [
    {
     "data": {
      "text/html": [
       "<div>\n",
       "<style scoped>\n",
       "    .dataframe tbody tr th:only-of-type {\n",
       "        vertical-align: middle;\n",
       "    }\n",
       "\n",
       "    .dataframe tbody tr th {\n",
       "        vertical-align: top;\n",
       "    }\n",
       "\n",
       "    .dataframe thead th {\n",
       "        text-align: right;\n",
       "    }\n",
       "</style>\n",
       "<table border=\"1\" class=\"dataframe\">\n",
       "  <thead>\n",
       "    <tr style=\"text-align: right;\">\n",
       "      <th></th>\n",
       "      <th>x</th>\n",
       "      <th>y</th>\n",
       "    </tr>\n",
       "  </thead>\n",
       "  <tbody>\n",
       "    <tr>\n",
       "      <th>a</th>\n",
       "      <td>-0.166409</td>\n",
       "      <td>-1.106290</td>\n",
       "    </tr>\n",
       "    <tr>\n",
       "      <th>b</th>\n",
       "      <td>-0.598395</td>\n",
       "      <td>0.673302</td>\n",
       "    </tr>\n",
       "    <tr>\n",
       "      <th>c</th>\n",
       "      <td>-0.698391</td>\n",
       "      <td>-1.085456</td>\n",
       "    </tr>\n",
       "    <tr>\n",
       "      <th>d</th>\n",
       "      <td>0.818763</td>\n",
       "      <td>-0.939791</td>\n",
       "    </tr>\n",
       "  </tbody>\n",
       "</table>\n",
       "</div>"
      ],
      "text/plain": [
       "          x         y\n",
       "a -0.166409 -1.106290\n",
       "b -0.598395  0.673302\n",
       "c -0.698391 -1.085456\n",
       "d  0.818763 -0.939791"
      ]
     },
     "execution_count": 19,
     "metadata": {},
     "output_type": "execute_result"
    }
   ],
   "source": [
    "#multiple columns\n",
    "df[['x','y']]"
   ]
  },
  {
   "cell_type": "code",
   "execution_count": 20,
   "id": "8e061a14",
   "metadata": {},
   "outputs": [],
   "source": [
    "#add a column in existing data frame\n",
    "df['name']=['kamal','bhavna','tejas','anu']"
   ]
  },
  {
   "cell_type": "code",
   "execution_count": 21,
   "id": "5065bb5f",
   "metadata": {},
   "outputs": [
    {
     "data": {
      "text/html": [
       "<div>\n",
       "<style scoped>\n",
       "    .dataframe tbody tr th:only-of-type {\n",
       "        vertical-align: middle;\n",
       "    }\n",
       "\n",
       "    .dataframe tbody tr th {\n",
       "        vertical-align: top;\n",
       "    }\n",
       "\n",
       "    .dataframe thead th {\n",
       "        text-align: right;\n",
       "    }\n",
       "</style>\n",
       "<table border=\"1\" class=\"dataframe\">\n",
       "  <thead>\n",
       "    <tr style=\"text-align: right;\">\n",
       "      <th></th>\n",
       "      <th>x</th>\n",
       "      <th>y</th>\n",
       "      <th>z</th>\n",
       "      <th>name</th>\n",
       "    </tr>\n",
       "  </thead>\n",
       "  <tbody>\n",
       "    <tr>\n",
       "      <th>a</th>\n",
       "      <td>-0.166409</td>\n",
       "      <td>-1.106290</td>\n",
       "      <td>0.050869</td>\n",
       "      <td>kamal</td>\n",
       "    </tr>\n",
       "    <tr>\n",
       "      <th>b</th>\n",
       "      <td>-0.598395</td>\n",
       "      <td>0.673302</td>\n",
       "      <td>-1.909231</td>\n",
       "      <td>bhavna</td>\n",
       "    </tr>\n",
       "    <tr>\n",
       "      <th>c</th>\n",
       "      <td>-0.698391</td>\n",
       "      <td>-1.085456</td>\n",
       "      <td>1.322230</td>\n",
       "      <td>tejas</td>\n",
       "    </tr>\n",
       "    <tr>\n",
       "      <th>d</th>\n",
       "      <td>0.818763</td>\n",
       "      <td>-0.939791</td>\n",
       "      <td>2.655465</td>\n",
       "      <td>anu</td>\n",
       "    </tr>\n",
       "  </tbody>\n",
       "</table>\n",
       "</div>"
      ],
      "text/plain": [
       "          x         y         z    name\n",
       "a -0.166409 -1.106290  0.050869   kamal\n",
       "b -0.598395  0.673302 -1.909231  bhavna\n",
       "c -0.698391 -1.085456  1.322230   tejas\n",
       "d  0.818763 -0.939791  2.655465     anu"
      ]
     },
     "execution_count": 21,
     "metadata": {},
     "output_type": "execute_result"
    }
   ],
   "source": [
    "df"
   ]
  },
  {
   "cell_type": "code",
   "execution_count": 22,
   "id": "3103f669",
   "metadata": {},
   "outputs": [],
   "source": [
    "df['new']=df['x']+df['y']+df['z']"
   ]
  },
  {
   "cell_type": "code",
   "execution_count": 23,
   "id": "4fd532fc",
   "metadata": {},
   "outputs": [
    {
     "data": {
      "text/html": [
       "<div>\n",
       "<style scoped>\n",
       "    .dataframe tbody tr th:only-of-type {\n",
       "        vertical-align: middle;\n",
       "    }\n",
       "\n",
       "    .dataframe tbody tr th {\n",
       "        vertical-align: top;\n",
       "    }\n",
       "\n",
       "    .dataframe thead th {\n",
       "        text-align: right;\n",
       "    }\n",
       "</style>\n",
       "<table border=\"1\" class=\"dataframe\">\n",
       "  <thead>\n",
       "    <tr style=\"text-align: right;\">\n",
       "      <th></th>\n",
       "      <th>x</th>\n",
       "      <th>y</th>\n",
       "      <th>z</th>\n",
       "      <th>name</th>\n",
       "      <th>new</th>\n",
       "    </tr>\n",
       "  </thead>\n",
       "  <tbody>\n",
       "    <tr>\n",
       "      <th>a</th>\n",
       "      <td>-0.166409</td>\n",
       "      <td>-1.106290</td>\n",
       "      <td>0.050869</td>\n",
       "      <td>kamal</td>\n",
       "      <td>-1.221831</td>\n",
       "    </tr>\n",
       "    <tr>\n",
       "      <th>b</th>\n",
       "      <td>-0.598395</td>\n",
       "      <td>0.673302</td>\n",
       "      <td>-1.909231</td>\n",
       "      <td>bhavna</td>\n",
       "      <td>-1.834324</td>\n",
       "    </tr>\n",
       "    <tr>\n",
       "      <th>c</th>\n",
       "      <td>-0.698391</td>\n",
       "      <td>-1.085456</td>\n",
       "      <td>1.322230</td>\n",
       "      <td>tejas</td>\n",
       "      <td>-0.461617</td>\n",
       "    </tr>\n",
       "    <tr>\n",
       "      <th>d</th>\n",
       "      <td>0.818763</td>\n",
       "      <td>-0.939791</td>\n",
       "      <td>2.655465</td>\n",
       "      <td>anu</td>\n",
       "      <td>2.534437</td>\n",
       "    </tr>\n",
       "  </tbody>\n",
       "</table>\n",
       "</div>"
      ],
      "text/plain": [
       "          x         y         z    name       new\n",
       "a -0.166409 -1.106290  0.050869   kamal -1.221831\n",
       "b -0.598395  0.673302 -1.909231  bhavna -1.834324\n",
       "c -0.698391 -1.085456  1.322230   tejas -0.461617\n",
       "d  0.818763 -0.939791  2.655465     anu  2.534437"
      ]
     },
     "execution_count": 23,
     "metadata": {},
     "output_type": "execute_result"
    }
   ],
   "source": [
    "df"
   ]
  },
  {
   "cell_type": "code",
   "execution_count": 24,
   "id": "519b0bee",
   "metadata": {},
   "outputs": [],
   "source": [
    "df['new1']=df['x']*df['y']*df['z']"
   ]
  },
  {
   "cell_type": "code",
   "execution_count": 25,
   "id": "5e8520b1",
   "metadata": {},
   "outputs": [
    {
     "data": {
      "text/html": [
       "<div>\n",
       "<style scoped>\n",
       "    .dataframe tbody tr th:only-of-type {\n",
       "        vertical-align: middle;\n",
       "    }\n",
       "\n",
       "    .dataframe tbody tr th {\n",
       "        vertical-align: top;\n",
       "    }\n",
       "\n",
       "    .dataframe thead th {\n",
       "        text-align: right;\n",
       "    }\n",
       "</style>\n",
       "<table border=\"1\" class=\"dataframe\">\n",
       "  <thead>\n",
       "    <tr style=\"text-align: right;\">\n",
       "      <th></th>\n",
       "      <th>x</th>\n",
       "      <th>y</th>\n",
       "      <th>z</th>\n",
       "      <th>name</th>\n",
       "      <th>new</th>\n",
       "      <th>new1</th>\n",
       "    </tr>\n",
       "  </thead>\n",
       "  <tbody>\n",
       "    <tr>\n",
       "      <th>a</th>\n",
       "      <td>-0.166409</td>\n",
       "      <td>-1.106290</td>\n",
       "      <td>0.050869</td>\n",
       "      <td>kamal</td>\n",
       "      <td>-1.221831</td>\n",
       "      <td>0.009365</td>\n",
       "    </tr>\n",
       "    <tr>\n",
       "      <th>b</th>\n",
       "      <td>-0.598395</td>\n",
       "      <td>0.673302</td>\n",
       "      <td>-1.909231</td>\n",
       "      <td>bhavna</td>\n",
       "      <td>-1.834324</td>\n",
       "      <td>0.769230</td>\n",
       "    </tr>\n",
       "    <tr>\n",
       "      <th>c</th>\n",
       "      <td>-0.698391</td>\n",
       "      <td>-1.085456</td>\n",
       "      <td>1.322230</td>\n",
       "      <td>tejas</td>\n",
       "      <td>-0.461617</td>\n",
       "      <td>1.002347</td>\n",
       "    </tr>\n",
       "    <tr>\n",
       "      <th>d</th>\n",
       "      <td>0.818763</td>\n",
       "      <td>-0.939791</td>\n",
       "      <td>2.655465</td>\n",
       "      <td>anu</td>\n",
       "      <td>2.534437</td>\n",
       "      <td>-2.043291</td>\n",
       "    </tr>\n",
       "  </tbody>\n",
       "</table>\n",
       "</div>"
      ],
      "text/plain": [
       "          x         y         z    name       new      new1\n",
       "a -0.166409 -1.106290  0.050869   kamal -1.221831  0.009365\n",
       "b -0.598395  0.673302 -1.909231  bhavna -1.834324  0.769230\n",
       "c -0.698391 -1.085456  1.322230   tejas -0.461617  1.002347\n",
       "d  0.818763 -0.939791  2.655465     anu  2.534437 -2.043291"
      ]
     },
     "execution_count": 25,
     "metadata": {},
     "output_type": "execute_result"
    }
   ],
   "source": [
    "df"
   ]
  },
  {
   "cell_type": "code",
   "execution_count": 26,
   "id": "e1a41fd3",
   "metadata": {},
   "outputs": [
    {
     "data": {
      "text/html": [
       "<div>\n",
       "<style scoped>\n",
       "    .dataframe tbody tr th:only-of-type {\n",
       "        vertical-align: middle;\n",
       "    }\n",
       "\n",
       "    .dataframe tbody tr th {\n",
       "        vertical-align: top;\n",
       "    }\n",
       "\n",
       "    .dataframe thead th {\n",
       "        text-align: right;\n",
       "    }\n",
       "</style>\n",
       "<table border=\"1\" class=\"dataframe\">\n",
       "  <thead>\n",
       "    <tr style=\"text-align: right;\">\n",
       "      <th></th>\n",
       "      <th>x</th>\n",
       "      <th>y</th>\n",
       "      <th>z</th>\n",
       "      <th>name</th>\n",
       "      <th>new</th>\n",
       "    </tr>\n",
       "  </thead>\n",
       "  <tbody>\n",
       "    <tr>\n",
       "      <th>a</th>\n",
       "      <td>-0.166409</td>\n",
       "      <td>-1.106290</td>\n",
       "      <td>0.050869</td>\n",
       "      <td>kamal</td>\n",
       "      <td>-1.221831</td>\n",
       "    </tr>\n",
       "    <tr>\n",
       "      <th>b</th>\n",
       "      <td>-0.598395</td>\n",
       "      <td>0.673302</td>\n",
       "      <td>-1.909231</td>\n",
       "      <td>bhavna</td>\n",
       "      <td>-1.834324</td>\n",
       "    </tr>\n",
       "    <tr>\n",
       "      <th>c</th>\n",
       "      <td>-0.698391</td>\n",
       "      <td>-1.085456</td>\n",
       "      <td>1.322230</td>\n",
       "      <td>tejas</td>\n",
       "      <td>-0.461617</td>\n",
       "    </tr>\n",
       "    <tr>\n",
       "      <th>d</th>\n",
       "      <td>0.818763</td>\n",
       "      <td>-0.939791</td>\n",
       "      <td>2.655465</td>\n",
       "      <td>anu</td>\n",
       "      <td>2.534437</td>\n",
       "    </tr>\n",
       "  </tbody>\n",
       "</table>\n",
       "</div>"
      ],
      "text/plain": [
       "          x         y         z    name       new\n",
       "a -0.166409 -1.106290  0.050869   kamal -1.221831\n",
       "b -0.598395  0.673302 -1.909231  bhavna -1.834324\n",
       "c -0.698391 -1.085456  1.322230   tejas -0.461617\n",
       "d  0.818763 -0.939791  2.655465     anu  2.534437"
      ]
     },
     "execution_count": 26,
     "metadata": {},
     "output_type": "execute_result"
    }
   ],
   "source": [
    "#how to delete or drop a column\n",
    "#axis=0 for rows and axis=1 for columns by default pandas take axis=0\n",
    "df.drop('new1',axis=1)"
   ]
  },
  {
   "cell_type": "code",
   "execution_count": 27,
   "id": "1237f16d",
   "metadata": {},
   "outputs": [
    {
     "data": {
      "text/html": [
       "<div>\n",
       "<style scoped>\n",
       "    .dataframe tbody tr th:only-of-type {\n",
       "        vertical-align: middle;\n",
       "    }\n",
       "\n",
       "    .dataframe tbody tr th {\n",
       "        vertical-align: top;\n",
       "    }\n",
       "\n",
       "    .dataframe thead th {\n",
       "        text-align: right;\n",
       "    }\n",
       "</style>\n",
       "<table border=\"1\" class=\"dataframe\">\n",
       "  <thead>\n",
       "    <tr style=\"text-align: right;\">\n",
       "      <th></th>\n",
       "      <th>x</th>\n",
       "      <th>y</th>\n",
       "      <th>z</th>\n",
       "      <th>name</th>\n",
       "      <th>new</th>\n",
       "      <th>new1</th>\n",
       "    </tr>\n",
       "  </thead>\n",
       "  <tbody>\n",
       "    <tr>\n",
       "      <th>a</th>\n",
       "      <td>-0.166409</td>\n",
       "      <td>-1.106290</td>\n",
       "      <td>0.050869</td>\n",
       "      <td>kamal</td>\n",
       "      <td>-1.221831</td>\n",
       "      <td>0.009365</td>\n",
       "    </tr>\n",
       "    <tr>\n",
       "      <th>b</th>\n",
       "      <td>-0.598395</td>\n",
       "      <td>0.673302</td>\n",
       "      <td>-1.909231</td>\n",
       "      <td>bhavna</td>\n",
       "      <td>-1.834324</td>\n",
       "      <td>0.769230</td>\n",
       "    </tr>\n",
       "    <tr>\n",
       "      <th>c</th>\n",
       "      <td>-0.698391</td>\n",
       "      <td>-1.085456</td>\n",
       "      <td>1.322230</td>\n",
       "      <td>tejas</td>\n",
       "      <td>-0.461617</td>\n",
       "      <td>1.002347</td>\n",
       "    </tr>\n",
       "    <tr>\n",
       "      <th>d</th>\n",
       "      <td>0.818763</td>\n",
       "      <td>-0.939791</td>\n",
       "      <td>2.655465</td>\n",
       "      <td>anu</td>\n",
       "      <td>2.534437</td>\n",
       "      <td>-2.043291</td>\n",
       "    </tr>\n",
       "  </tbody>\n",
       "</table>\n",
       "</div>"
      ],
      "text/plain": [
       "          x         y         z    name       new      new1\n",
       "a -0.166409 -1.106290  0.050869   kamal -1.221831  0.009365\n",
       "b -0.598395  0.673302 -1.909231  bhavna -1.834324  0.769230\n",
       "c -0.698391 -1.085456  1.322230   tejas -0.461617  1.002347\n",
       "d  0.818763 -0.939791  2.655465     anu  2.534437 -2.043291"
      ]
     },
     "execution_count": 27,
     "metadata": {},
     "output_type": "execute_result"
    }
   ],
   "source": [
    "df\n",
    "#here we can see taht its not deleted paramnently"
   ]
  },
  {
   "cell_type": "code",
   "execution_count": 28,
   "id": "e9850f31",
   "metadata": {},
   "outputs": [],
   "source": [
    "# if we want to delete a column parmanent we have to use inplace=TRUE in data frame\n",
    "df.drop('new1',axis=1,inplace=True)"
   ]
  },
  {
   "cell_type": "code",
   "execution_count": 29,
   "id": "4e718d86",
   "metadata": {},
   "outputs": [
    {
     "data": {
      "text/html": [
       "<div>\n",
       "<style scoped>\n",
       "    .dataframe tbody tr th:only-of-type {\n",
       "        vertical-align: middle;\n",
       "    }\n",
       "\n",
       "    .dataframe tbody tr th {\n",
       "        vertical-align: top;\n",
       "    }\n",
       "\n",
       "    .dataframe thead th {\n",
       "        text-align: right;\n",
       "    }\n",
       "</style>\n",
       "<table border=\"1\" class=\"dataframe\">\n",
       "  <thead>\n",
       "    <tr style=\"text-align: right;\">\n",
       "      <th></th>\n",
       "      <th>x</th>\n",
       "      <th>y</th>\n",
       "      <th>z</th>\n",
       "      <th>name</th>\n",
       "      <th>new</th>\n",
       "    </tr>\n",
       "  </thead>\n",
       "  <tbody>\n",
       "    <tr>\n",
       "      <th>a</th>\n",
       "      <td>-0.166409</td>\n",
       "      <td>-1.106290</td>\n",
       "      <td>0.050869</td>\n",
       "      <td>kamal</td>\n",
       "      <td>-1.221831</td>\n",
       "    </tr>\n",
       "    <tr>\n",
       "      <th>b</th>\n",
       "      <td>-0.598395</td>\n",
       "      <td>0.673302</td>\n",
       "      <td>-1.909231</td>\n",
       "      <td>bhavna</td>\n",
       "      <td>-1.834324</td>\n",
       "    </tr>\n",
       "    <tr>\n",
       "      <th>c</th>\n",
       "      <td>-0.698391</td>\n",
       "      <td>-1.085456</td>\n",
       "      <td>1.322230</td>\n",
       "      <td>tejas</td>\n",
       "      <td>-0.461617</td>\n",
       "    </tr>\n",
       "    <tr>\n",
       "      <th>d</th>\n",
       "      <td>0.818763</td>\n",
       "      <td>-0.939791</td>\n",
       "      <td>2.655465</td>\n",
       "      <td>anu</td>\n",
       "      <td>2.534437</td>\n",
       "    </tr>\n",
       "  </tbody>\n",
       "</table>\n",
       "</div>"
      ],
      "text/plain": [
       "          x         y         z    name       new\n",
       "a -0.166409 -1.106290  0.050869   kamal -1.221831\n",
       "b -0.598395  0.673302 -1.909231  bhavna -1.834324\n",
       "c -0.698391 -1.085456  1.322230   tejas -0.461617\n",
       "d  0.818763 -0.939791  2.655465     anu  2.534437"
      ]
     },
     "execution_count": 29,
     "metadata": {},
     "output_type": "execute_result"
    }
   ],
   "source": [
    "df\n",
    "#here its deleted paramnetly"
   ]
  },
  {
   "cell_type": "code",
   "execution_count": 30,
   "id": "ab15e070",
   "metadata": {},
   "outputs": [],
   "source": [
    "# how to select rows\n",
    "#loc (location)\n",
    "#iloc (index location)"
   ]
  },
  {
   "cell_type": "code",
   "execution_count": 31,
   "id": "bb1bcb5e",
   "metadata": {},
   "outputs": [
    {
     "data": {
      "text/plain": [
       "x      -0.166409\n",
       "y       -1.10629\n",
       "z       0.050869\n",
       "name       kamal\n",
       "new    -1.221831\n",
       "Name: a, dtype: object"
      ]
     },
     "execution_count": 31,
     "metadata": {},
     "output_type": "execute_result"
    }
   ],
   "source": [
    "#loc\n",
    "#loc-single row\n",
    "df.loc['a']"
   ]
  },
  {
   "cell_type": "code",
   "execution_count": 32,
   "id": "5afa89ca",
   "metadata": {},
   "outputs": [
    {
     "data": {
      "text/html": [
       "<div>\n",
       "<style scoped>\n",
       "    .dataframe tbody tr th:only-of-type {\n",
       "        vertical-align: middle;\n",
       "    }\n",
       "\n",
       "    .dataframe tbody tr th {\n",
       "        vertical-align: top;\n",
       "    }\n",
       "\n",
       "    .dataframe thead th {\n",
       "        text-align: right;\n",
       "    }\n",
       "</style>\n",
       "<table border=\"1\" class=\"dataframe\">\n",
       "  <thead>\n",
       "    <tr style=\"text-align: right;\">\n",
       "      <th></th>\n",
       "      <th>x</th>\n",
       "      <th>y</th>\n",
       "      <th>z</th>\n",
       "      <th>name</th>\n",
       "      <th>new</th>\n",
       "    </tr>\n",
       "  </thead>\n",
       "  <tbody>\n",
       "    <tr>\n",
       "      <th>a</th>\n",
       "      <td>-0.166409</td>\n",
       "      <td>-1.106290</td>\n",
       "      <td>0.050869</td>\n",
       "      <td>kamal</td>\n",
       "      <td>-1.221831</td>\n",
       "    </tr>\n",
       "    <tr>\n",
       "      <th>b</th>\n",
       "      <td>-0.598395</td>\n",
       "      <td>0.673302</td>\n",
       "      <td>-1.909231</td>\n",
       "      <td>bhavna</td>\n",
       "      <td>-1.834324</td>\n",
       "    </tr>\n",
       "  </tbody>\n",
       "</table>\n",
       "</div>"
      ],
      "text/plain": [
       "          x         y         z    name       new\n",
       "a -0.166409 -1.106290  0.050869   kamal -1.221831\n",
       "b -0.598395  0.673302 -1.909231  bhavna -1.834324"
      ]
     },
     "execution_count": 32,
     "metadata": {},
     "output_type": "execute_result"
    }
   ],
   "source": [
    "#multiple rows\n",
    "df.loc[['a','b']]"
   ]
  },
  {
   "cell_type": "code",
   "execution_count": 33,
   "id": "208658f2",
   "metadata": {},
   "outputs": [
    {
     "data": {
      "text/plain": [
       "x      -0.166409\n",
       "y       -1.10629\n",
       "z       0.050869\n",
       "name       kamal\n",
       "new    -1.221831\n",
       "Name: a, dtype: object"
      ]
     },
     "execution_count": 33,
     "metadata": {},
     "output_type": "execute_result"
    }
   ],
   "source": [
    "#iloc\n",
    "#single row\n",
    "df.iloc[0]"
   ]
  },
  {
   "cell_type": "code",
   "execution_count": 34,
   "id": "f0c35008",
   "metadata": {},
   "outputs": [
    {
     "data": {
      "text/html": [
       "<div>\n",
       "<style scoped>\n",
       "    .dataframe tbody tr th:only-of-type {\n",
       "        vertical-align: middle;\n",
       "    }\n",
       "\n",
       "    .dataframe tbody tr th {\n",
       "        vertical-align: top;\n",
       "    }\n",
       "\n",
       "    .dataframe thead th {\n",
       "        text-align: right;\n",
       "    }\n",
       "</style>\n",
       "<table border=\"1\" class=\"dataframe\">\n",
       "  <thead>\n",
       "    <tr style=\"text-align: right;\">\n",
       "      <th></th>\n",
       "      <th>x</th>\n",
       "      <th>y</th>\n",
       "      <th>z</th>\n",
       "      <th>name</th>\n",
       "      <th>new</th>\n",
       "    </tr>\n",
       "  </thead>\n",
       "  <tbody>\n",
       "    <tr>\n",
       "      <th>a</th>\n",
       "      <td>-0.166409</td>\n",
       "      <td>-1.106290</td>\n",
       "      <td>0.050869</td>\n",
       "      <td>kamal</td>\n",
       "      <td>-1.221831</td>\n",
       "    </tr>\n",
       "    <tr>\n",
       "      <th>c</th>\n",
       "      <td>-0.698391</td>\n",
       "      <td>-1.085456</td>\n",
       "      <td>1.322230</td>\n",
       "      <td>tejas</td>\n",
       "      <td>-0.461617</td>\n",
       "    </tr>\n",
       "  </tbody>\n",
       "</table>\n",
       "</div>"
      ],
      "text/plain": [
       "          x         y         z   name       new\n",
       "a -0.166409 -1.106290  0.050869  kamal -1.221831\n",
       "c -0.698391 -1.085456  1.322230  tejas -0.461617"
      ]
     },
     "execution_count": 34,
     "metadata": {},
     "output_type": "execute_result"
    }
   ],
   "source": [
    "#multiple rows\n",
    "df.iloc[[0,2]]\n"
   ]
  },
  {
   "cell_type": "code",
   "execution_count": 35,
   "id": "f02ccbab",
   "metadata": {},
   "outputs": [
    {
     "data": {
      "text/plain": [
       "0.6733018733116054"
      ]
     },
     "execution_count": 35,
     "metadata": {},
     "output_type": "execute_result"
    }
   ],
   "source": [
    "#if i have to extract a single row and column\n",
    "df.loc['b','y']"
   ]
  },
  {
   "cell_type": "code",
   "execution_count": 36,
   "id": "31cc7c87",
   "metadata": {},
   "outputs": [
    {
     "data": {
      "text/html": [
       "<div>\n",
       "<style scoped>\n",
       "    .dataframe tbody tr th:only-of-type {\n",
       "        vertical-align: middle;\n",
       "    }\n",
       "\n",
       "    .dataframe tbody tr th {\n",
       "        vertical-align: top;\n",
       "    }\n",
       "\n",
       "    .dataframe thead th {\n",
       "        text-align: right;\n",
       "    }\n",
       "</style>\n",
       "<table border=\"1\" class=\"dataframe\">\n",
       "  <thead>\n",
       "    <tr style=\"text-align: right;\">\n",
       "      <th></th>\n",
       "      <th>x</th>\n",
       "      <th>y</th>\n",
       "      <th>z</th>\n",
       "      <th>name</th>\n",
       "      <th>new</th>\n",
       "    </tr>\n",
       "  </thead>\n",
       "  <tbody>\n",
       "    <tr>\n",
       "      <th>a</th>\n",
       "      <td>-0.166409</td>\n",
       "      <td>-1.106290</td>\n",
       "      <td>0.050869</td>\n",
       "      <td>kamal</td>\n",
       "      <td>-1.221831</td>\n",
       "    </tr>\n",
       "    <tr>\n",
       "      <th>b</th>\n",
       "      <td>-0.598395</td>\n",
       "      <td>0.673302</td>\n",
       "      <td>-1.909231</td>\n",
       "      <td>bhavna</td>\n",
       "      <td>-1.834324</td>\n",
       "    </tr>\n",
       "    <tr>\n",
       "      <th>c</th>\n",
       "      <td>-0.698391</td>\n",
       "      <td>-1.085456</td>\n",
       "      <td>1.322230</td>\n",
       "      <td>tejas</td>\n",
       "      <td>-0.461617</td>\n",
       "    </tr>\n",
       "    <tr>\n",
       "      <th>d</th>\n",
       "      <td>0.818763</td>\n",
       "      <td>-0.939791</td>\n",
       "      <td>2.655465</td>\n",
       "      <td>anu</td>\n",
       "      <td>2.534437</td>\n",
       "    </tr>\n",
       "  </tbody>\n",
       "</table>\n",
       "</div>"
      ],
      "text/plain": [
       "          x         y         z    name       new\n",
       "a -0.166409 -1.106290  0.050869   kamal -1.221831\n",
       "b -0.598395  0.673302 -1.909231  bhavna -1.834324\n",
       "c -0.698391 -1.085456  1.322230   tejas -0.461617\n",
       "d  0.818763 -0.939791  2.655465     anu  2.534437"
      ]
     },
     "execution_count": 36,
     "metadata": {},
     "output_type": "execute_result"
    }
   ],
   "source": [
    "df"
   ]
  },
  {
   "cell_type": "code",
   "execution_count": 37,
   "id": "3b3849fc",
   "metadata": {},
   "outputs": [
    {
     "data": {
      "text/html": [
       "<div>\n",
       "<style scoped>\n",
       "    .dataframe tbody tr th:only-of-type {\n",
       "        vertical-align: middle;\n",
       "    }\n",
       "\n",
       "    .dataframe tbody tr th {\n",
       "        vertical-align: top;\n",
       "    }\n",
       "\n",
       "    .dataframe thead th {\n",
       "        text-align: right;\n",
       "    }\n",
       "</style>\n",
       "<table border=\"1\" class=\"dataframe\">\n",
       "  <thead>\n",
       "    <tr style=\"text-align: right;\">\n",
       "      <th></th>\n",
       "      <th>x</th>\n",
       "      <th>new</th>\n",
       "    </tr>\n",
       "  </thead>\n",
       "  <tbody>\n",
       "    <tr>\n",
       "      <th>a</th>\n",
       "      <td>-0.166409</td>\n",
       "      <td>-1.221831</td>\n",
       "    </tr>\n",
       "    <tr>\n",
       "      <th>d</th>\n",
       "      <td>0.818763</td>\n",
       "      <td>2.534437</td>\n",
       "    </tr>\n",
       "  </tbody>\n",
       "</table>\n",
       "</div>"
      ],
      "text/plain": [
       "          x       new\n",
       "a -0.166409 -1.221831\n",
       "d  0.818763  2.534437"
      ]
     },
     "execution_count": 37,
     "metadata": {},
     "output_type": "execute_result"
    }
   ],
   "source": [
    "#for multiple rows and column\n",
    "df.loc[['a','d'],['x','new']]"
   ]
  },
  {
   "cell_type": "code",
   "execution_count": 38,
   "id": "44b9f02f",
   "metadata": {},
   "outputs": [
    {
     "data": {
      "text/html": [
       "<div>\n",
       "<style scoped>\n",
       "    .dataframe tbody tr th:only-of-type {\n",
       "        vertical-align: middle;\n",
       "    }\n",
       "\n",
       "    .dataframe tbody tr th {\n",
       "        vertical-align: top;\n",
       "    }\n",
       "\n",
       "    .dataframe thead th {\n",
       "        text-align: right;\n",
       "    }\n",
       "</style>\n",
       "<table border=\"1\" class=\"dataframe\">\n",
       "  <thead>\n",
       "    <tr style=\"text-align: right;\">\n",
       "      <th></th>\n",
       "      <th>x</th>\n",
       "      <th>y</th>\n",
       "      <th>z</th>\n",
       "      <th>name</th>\n",
       "      <th>new</th>\n",
       "    </tr>\n",
       "  </thead>\n",
       "  <tbody>\n",
       "    <tr>\n",
       "      <th>a</th>\n",
       "      <td>-0.166409</td>\n",
       "      <td>-1.106290</td>\n",
       "      <td>0.050869</td>\n",
       "      <td>kamal</td>\n",
       "      <td>-1.221831</td>\n",
       "    </tr>\n",
       "    <tr>\n",
       "      <th>b</th>\n",
       "      <td>-0.598395</td>\n",
       "      <td>0.673302</td>\n",
       "      <td>-1.909231</td>\n",
       "      <td>bhavna</td>\n",
       "      <td>-1.834324</td>\n",
       "    </tr>\n",
       "    <tr>\n",
       "      <th>c</th>\n",
       "      <td>-0.698391</td>\n",
       "      <td>-1.085456</td>\n",
       "      <td>1.322230</td>\n",
       "      <td>tejas</td>\n",
       "      <td>-0.461617</td>\n",
       "    </tr>\n",
       "    <tr>\n",
       "      <th>d</th>\n",
       "      <td>0.818763</td>\n",
       "      <td>-0.939791</td>\n",
       "      <td>2.655465</td>\n",
       "      <td>anu</td>\n",
       "      <td>2.534437</td>\n",
       "    </tr>\n",
       "  </tbody>\n",
       "</table>\n",
       "</div>"
      ],
      "text/plain": [
       "          x         y         z    name       new\n",
       "a -0.166409 -1.106290  0.050869   kamal -1.221831\n",
       "b -0.598395  0.673302 -1.909231  bhavna -1.834324\n",
       "c -0.698391 -1.085456  1.322230   tejas -0.461617\n",
       "d  0.818763 -0.939791  2.655465     anu  2.534437"
      ]
     },
     "execution_count": 38,
     "metadata": {},
     "output_type": "execute_result"
    }
   ],
   "source": [
    "#selection with conditions\n",
    "df"
   ]
  },
  {
   "cell_type": "code",
   "execution_count": 39,
   "id": "c74bd868",
   "metadata": {},
   "outputs": [
    {
     "data": {
      "text/html": [
       "<div>\n",
       "<style scoped>\n",
       "    .dataframe tbody tr th:only-of-type {\n",
       "        vertical-align: middle;\n",
       "    }\n",
       "\n",
       "    .dataframe tbody tr th {\n",
       "        vertical-align: top;\n",
       "    }\n",
       "\n",
       "    .dataframe thead th {\n",
       "        text-align: right;\n",
       "    }\n",
       "</style>\n",
       "<table border=\"1\" class=\"dataframe\">\n",
       "  <thead>\n",
       "    <tr style=\"text-align: right;\">\n",
       "      <th></th>\n",
       "      <th>x</th>\n",
       "      <th>y</th>\n",
       "      <th>z</th>\n",
       "      <th>name</th>\n",
       "      <th>new</th>\n",
       "    </tr>\n",
       "  </thead>\n",
       "  <tbody>\n",
       "    <tr>\n",
       "      <th>a</th>\n",
       "      <td>-0.166409</td>\n",
       "      <td>-1.106290</td>\n",
       "      <td>0.050869</td>\n",
       "      <td>kamal</td>\n",
       "      <td>-1.221831</td>\n",
       "    </tr>\n",
       "    <tr>\n",
       "      <th>b</th>\n",
       "      <td>-0.598395</td>\n",
       "      <td>0.673302</td>\n",
       "      <td>-1.909231</td>\n",
       "      <td>bhavna</td>\n",
       "      <td>-1.834324</td>\n",
       "    </tr>\n",
       "    <tr>\n",
       "      <th>c</th>\n",
       "      <td>-0.698391</td>\n",
       "      <td>-1.085456</td>\n",
       "      <td>1.322230</td>\n",
       "      <td>tejas</td>\n",
       "      <td>-0.461617</td>\n",
       "    </tr>\n",
       "    <tr>\n",
       "      <th>d</th>\n",
       "      <td>0.818763</td>\n",
       "      <td>-0.939791</td>\n",
       "      <td>2.655465</td>\n",
       "      <td>anu</td>\n",
       "      <td>2.534437</td>\n",
       "    </tr>\n",
       "  </tbody>\n",
       "</table>\n",
       "</div>"
      ],
      "text/plain": [
       "          x         y         z    name       new\n",
       "a -0.166409 -1.106290  0.050869   kamal -1.221831\n",
       "b -0.598395  0.673302 -1.909231  bhavna -1.834324\n",
       "c -0.698391 -1.085456  1.322230   tejas -0.461617\n",
       "d  0.818763 -0.939791  2.655465     anu  2.534437"
      ]
     },
     "execution_count": 39,
     "metadata": {},
     "output_type": "execute_result"
    }
   ],
   "source": [
    "df"
   ]
  },
  {
   "cell_type": "code",
   "execution_count": 40,
   "id": "25639c46",
   "metadata": {},
   "outputs": [
    {
     "data": {
      "text/html": [
       "<div>\n",
       "<style scoped>\n",
       "    .dataframe tbody tr th:only-of-type {\n",
       "        vertical-align: middle;\n",
       "    }\n",
       "\n",
       "    .dataframe tbody tr th {\n",
       "        vertical-align: top;\n",
       "    }\n",
       "\n",
       "    .dataframe thead th {\n",
       "        text-align: right;\n",
       "    }\n",
       "</style>\n",
       "<table border=\"1\" class=\"dataframe\">\n",
       "  <thead>\n",
       "    <tr style=\"text-align: right;\">\n",
       "      <th></th>\n",
       "      <th>x</th>\n",
       "      <th>y</th>\n",
       "      <th>z</th>\n",
       "      <th>name</th>\n",
       "      <th>new</th>\n",
       "    </tr>\n",
       "  </thead>\n",
       "  <tbody>\n",
       "    <tr>\n",
       "      <th>d</th>\n",
       "      <td>0.818763</td>\n",
       "      <td>-0.939791</td>\n",
       "      <td>2.655465</td>\n",
       "      <td>anu</td>\n",
       "      <td>2.534437</td>\n",
       "    </tr>\n",
       "  </tbody>\n",
       "</table>\n",
       "</div>"
      ],
      "text/plain": [
       "          x         y         z name       new\n",
       "d  0.818763 -0.939791  2.655465  anu  2.534437"
      ]
     },
     "execution_count": 40,
     "metadata": {},
     "output_type": "execute_result"
    }
   ],
   "source": [
    "df[df['x']>0]"
   ]
  },
  {
   "cell_type": "code",
   "execution_count": 41,
   "id": "75d763c4",
   "metadata": {},
   "outputs": [],
   "source": [
    "y=df[df['x']>0]['z']"
   ]
  },
  {
   "cell_type": "code",
   "execution_count": 42,
   "id": "c535049c",
   "metadata": {},
   "outputs": [
    {
     "data": {
      "text/plain": [
       "d    2.655465\n",
       "Name: z, dtype: float64"
      ]
     },
     "execution_count": 42,
     "metadata": {},
     "output_type": "execute_result"
    }
   ],
   "source": [
    "y"
   ]
  },
  {
   "cell_type": "code",
   "execution_count": 43,
   "id": "9a316ecf",
   "metadata": {},
   "outputs": [],
   "source": [
    "#for column selection we dont need loc and iloc"
   ]
  },
  {
   "cell_type": "code",
   "execution_count": 44,
   "id": "fee92580",
   "metadata": {},
   "outputs": [
    {
     "data": {
      "text/html": [
       "<div>\n",
       "<style scoped>\n",
       "    .dataframe tbody tr th:only-of-type {\n",
       "        vertical-align: middle;\n",
       "    }\n",
       "\n",
       "    .dataframe tbody tr th {\n",
       "        vertical-align: top;\n",
       "    }\n",
       "\n",
       "    .dataframe thead th {\n",
       "        text-align: right;\n",
       "    }\n",
       "</style>\n",
       "<table border=\"1\" class=\"dataframe\">\n",
       "  <thead>\n",
       "    <tr style=\"text-align: right;\">\n",
       "      <th></th>\n",
       "      <th>x</th>\n",
       "      <th>y</th>\n",
       "      <th>z</th>\n",
       "      <th>name</th>\n",
       "      <th>new</th>\n",
       "    </tr>\n",
       "  </thead>\n",
       "  <tbody>\n",
       "    <tr>\n",
       "      <th>a</th>\n",
       "      <td>-0.166409</td>\n",
       "      <td>-1.106290</td>\n",
       "      <td>0.050869</td>\n",
       "      <td>kamal</td>\n",
       "      <td>-1.221831</td>\n",
       "    </tr>\n",
       "    <tr>\n",
       "      <th>b</th>\n",
       "      <td>-0.598395</td>\n",
       "      <td>0.673302</td>\n",
       "      <td>-1.909231</td>\n",
       "      <td>bhavna</td>\n",
       "      <td>-1.834324</td>\n",
       "    </tr>\n",
       "    <tr>\n",
       "      <th>c</th>\n",
       "      <td>-0.698391</td>\n",
       "      <td>-1.085456</td>\n",
       "      <td>1.322230</td>\n",
       "      <td>tejas</td>\n",
       "      <td>-0.461617</td>\n",
       "    </tr>\n",
       "    <tr>\n",
       "      <th>d</th>\n",
       "      <td>0.818763</td>\n",
       "      <td>-0.939791</td>\n",
       "      <td>2.655465</td>\n",
       "      <td>anu</td>\n",
       "      <td>2.534437</td>\n",
       "    </tr>\n",
       "  </tbody>\n",
       "</table>\n",
       "</div>"
      ],
      "text/plain": [
       "          x         y         z    name       new\n",
       "a -0.166409 -1.106290  0.050869   kamal -1.221831\n",
       "b -0.598395  0.673302 -1.909231  bhavna -1.834324\n",
       "c -0.698391 -1.085456  1.322230   tejas -0.461617\n",
       "d  0.818763 -0.939791  2.655465     anu  2.534437"
      ]
     },
     "execution_count": 44,
     "metadata": {},
     "output_type": "execute_result"
    }
   ],
   "source": [
    "#multiple filter -numerical\n",
    "df"
   ]
  },
  {
   "cell_type": "code",
   "execution_count": 45,
   "id": "8515053a",
   "metadata": {},
   "outputs": [
    {
     "data": {
      "text/html": [
       "<div>\n",
       "<style scoped>\n",
       "    .dataframe tbody tr th:only-of-type {\n",
       "        vertical-align: middle;\n",
       "    }\n",
       "\n",
       "    .dataframe tbody tr th {\n",
       "        vertical-align: top;\n",
       "    }\n",
       "\n",
       "    .dataframe thead th {\n",
       "        text-align: right;\n",
       "    }\n",
       "</style>\n",
       "<table border=\"1\" class=\"dataframe\">\n",
       "  <thead>\n",
       "    <tr style=\"text-align: right;\">\n",
       "      <th></th>\n",
       "      <th>x</th>\n",
       "      <th>y</th>\n",
       "      <th>z</th>\n",
       "      <th>name</th>\n",
       "      <th>new</th>\n",
       "    </tr>\n",
       "  </thead>\n",
       "  <tbody>\n",
       "    <tr>\n",
       "      <th>a</th>\n",
       "      <td>-0.166409</td>\n",
       "      <td>-1.106290</td>\n",
       "      <td>0.050869</td>\n",
       "      <td>kamal</td>\n",
       "      <td>-1.221831</td>\n",
       "    </tr>\n",
       "    <tr>\n",
       "      <th>b</th>\n",
       "      <td>-0.598395</td>\n",
       "      <td>0.673302</td>\n",
       "      <td>-1.909231</td>\n",
       "      <td>bhavna</td>\n",
       "      <td>-1.834324</td>\n",
       "    </tr>\n",
       "    <tr>\n",
       "      <th>c</th>\n",
       "      <td>-0.698391</td>\n",
       "      <td>-1.085456</td>\n",
       "      <td>1.322230</td>\n",
       "      <td>tejas</td>\n",
       "      <td>-0.461617</td>\n",
       "    </tr>\n",
       "  </tbody>\n",
       "</table>\n",
       "</div>"
      ],
      "text/plain": [
       "          x         y         z    name       new\n",
       "a -0.166409 -1.106290  0.050869   kamal -1.221831\n",
       "b -0.598395  0.673302 -1.909231  bhavna -1.834324\n",
       "c -0.698391 -1.085456  1.322230   tejas -0.461617"
      ]
     },
     "execution_count": 45,
     "metadata": {},
     "output_type": "execute_result"
    }
   ],
   "source": [
    "df[df['x']<0]"
   ]
  },
  {
   "cell_type": "code",
   "execution_count": 46,
   "id": "7c1eed73",
   "metadata": {},
   "outputs": [
    {
     "data": {
      "text/html": [
       "<div>\n",
       "<style scoped>\n",
       "    .dataframe tbody tr th:only-of-type {\n",
       "        vertical-align: middle;\n",
       "    }\n",
       "\n",
       "    .dataframe tbody tr th {\n",
       "        vertical-align: top;\n",
       "    }\n",
       "\n",
       "    .dataframe thead th {\n",
       "        text-align: right;\n",
       "    }\n",
       "</style>\n",
       "<table border=\"1\" class=\"dataframe\">\n",
       "  <thead>\n",
       "    <tr style=\"text-align: right;\">\n",
       "      <th></th>\n",
       "      <th>x</th>\n",
       "      <th>y</th>\n",
       "      <th>z</th>\n",
       "      <th>name</th>\n",
       "      <th>new</th>\n",
       "    </tr>\n",
       "  </thead>\n",
       "  <tbody>\n",
       "    <tr>\n",
       "      <th>b</th>\n",
       "      <td>-0.598395</td>\n",
       "      <td>0.673302</td>\n",
       "      <td>-1.909231</td>\n",
       "      <td>bhavna</td>\n",
       "      <td>-1.834324</td>\n",
       "    </tr>\n",
       "    <tr>\n",
       "      <th>c</th>\n",
       "      <td>-0.698391</td>\n",
       "      <td>-1.085456</td>\n",
       "      <td>1.322230</td>\n",
       "      <td>tejas</td>\n",
       "      <td>-0.461617</td>\n",
       "    </tr>\n",
       "  </tbody>\n",
       "</table>\n",
       "</div>"
      ],
      "text/plain": [
       "          x         y         z    name       new\n",
       "b -0.598395  0.673302 -1.909231  bhavna -1.834324\n",
       "c -0.698391 -1.085456  1.322230   tejas -0.461617"
      ]
     },
     "execution_count": 46,
     "metadata": {},
     "output_type": "execute_result"
    }
   ],
   "source": [
    "df[df['x']<-0.5]"
   ]
  },
  {
   "cell_type": "code",
   "execution_count": 47,
   "id": "23c84b64",
   "metadata": {},
   "outputs": [
    {
     "data": {
      "text/html": [
       "<div>\n",
       "<style scoped>\n",
       "    .dataframe tbody tr th:only-of-type {\n",
       "        vertical-align: middle;\n",
       "    }\n",
       "\n",
       "    .dataframe tbody tr th {\n",
       "        vertical-align: top;\n",
       "    }\n",
       "\n",
       "    .dataframe thead th {\n",
       "        text-align: right;\n",
       "    }\n",
       "</style>\n",
       "<table border=\"1\" class=\"dataframe\">\n",
       "  <thead>\n",
       "    <tr style=\"text-align: right;\">\n",
       "      <th></th>\n",
       "      <th>x</th>\n",
       "      <th>y</th>\n",
       "      <th>z</th>\n",
       "      <th>name</th>\n",
       "      <th>new</th>\n",
       "    </tr>\n",
       "  </thead>\n",
       "  <tbody>\n",
       "    <tr>\n",
       "      <th>d</th>\n",
       "      <td>0.818763</td>\n",
       "      <td>-0.939791</td>\n",
       "      <td>2.655465</td>\n",
       "      <td>anu</td>\n",
       "      <td>2.534437</td>\n",
       "    </tr>\n",
       "  </tbody>\n",
       "</table>\n",
       "</div>"
      ],
      "text/plain": [
       "          x         y         z name       new\n",
       "d  0.818763 -0.939791  2.655465  anu  2.534437"
      ]
     },
     "execution_count": 47,
     "metadata": {},
     "output_type": "execute_result"
    }
   ],
   "source": [
    "#multiple filter\n",
    "df[(df['x']<0.5)&df['z']<0.5]"
   ]
  },
  {
   "cell_type": "code",
   "execution_count": 48,
   "id": "671f28df",
   "metadata": {},
   "outputs": [
    {
     "data": {
      "text/html": [
       "<div>\n",
       "<style scoped>\n",
       "    .dataframe tbody tr th:only-of-type {\n",
       "        vertical-align: middle;\n",
       "    }\n",
       "\n",
       "    .dataframe tbody tr th {\n",
       "        vertical-align: top;\n",
       "    }\n",
       "\n",
       "    .dataframe thead th {\n",
       "        text-align: right;\n",
       "    }\n",
       "</style>\n",
       "<table border=\"1\" class=\"dataframe\">\n",
       "  <thead>\n",
       "    <tr style=\"text-align: right;\">\n",
       "      <th></th>\n",
       "      <th>x</th>\n",
       "      <th>y</th>\n",
       "      <th>z</th>\n",
       "      <th>name</th>\n",
       "      <th>new</th>\n",
       "    </tr>\n",
       "  </thead>\n",
       "  <tbody>\n",
       "    <tr>\n",
       "      <th>a</th>\n",
       "      <td>-0.166409</td>\n",
       "      <td>-1.106290</td>\n",
       "      <td>0.050869</td>\n",
       "      <td>kamal</td>\n",
       "      <td>-1.221831</td>\n",
       "    </tr>\n",
       "    <tr>\n",
       "      <th>b</th>\n",
       "      <td>-0.598395</td>\n",
       "      <td>0.673302</td>\n",
       "      <td>-1.909231</td>\n",
       "      <td>bhavna</td>\n",
       "      <td>-1.834324</td>\n",
       "    </tr>\n",
       "    <tr>\n",
       "      <th>c</th>\n",
       "      <td>-0.698391</td>\n",
       "      <td>-1.085456</td>\n",
       "      <td>1.322230</td>\n",
       "      <td>tejas</td>\n",
       "      <td>-0.461617</td>\n",
       "    </tr>\n",
       "    <tr>\n",
       "      <th>d</th>\n",
       "      <td>0.818763</td>\n",
       "      <td>-0.939791</td>\n",
       "      <td>2.655465</td>\n",
       "      <td>anu</td>\n",
       "      <td>2.534437</td>\n",
       "    </tr>\n",
       "  </tbody>\n",
       "</table>\n",
       "</div>"
      ],
      "text/plain": [
       "          x         y         z    name       new\n",
       "a -0.166409 -1.106290  0.050869   kamal -1.221831\n",
       "b -0.598395  0.673302 -1.909231  bhavna -1.834324\n",
       "c -0.698391 -1.085456  1.322230   tejas -0.461617\n",
       "d  0.818763 -0.939791  2.655465     anu  2.534437"
      ]
     },
     "execution_count": 48,
     "metadata": {},
     "output_type": "execute_result"
    }
   ],
   "source": [
    "df"
   ]
  },
  {
   "cell_type": "code",
   "execution_count": 49,
   "id": "0940ad8d",
   "metadata": {},
   "outputs": [
    {
     "data": {
      "text/html": [
       "<div>\n",
       "<style scoped>\n",
       "    .dataframe tbody tr th:only-of-type {\n",
       "        vertical-align: middle;\n",
       "    }\n",
       "\n",
       "    .dataframe tbody tr th {\n",
       "        vertical-align: top;\n",
       "    }\n",
       "\n",
       "    .dataframe thead th {\n",
       "        text-align: right;\n",
       "    }\n",
       "</style>\n",
       "<table border=\"1\" class=\"dataframe\">\n",
       "  <thead>\n",
       "    <tr style=\"text-align: right;\">\n",
       "      <th></th>\n",
       "      <th>x</th>\n",
       "      <th>y</th>\n",
       "      <th>z</th>\n",
       "      <th>name</th>\n",
       "      <th>new</th>\n",
       "    </tr>\n",
       "  </thead>\n",
       "  <tbody>\n",
       "    <tr>\n",
       "      <th>a</th>\n",
       "      <td>-0.166409</td>\n",
       "      <td>-1.106290</td>\n",
       "      <td>0.050869</td>\n",
       "      <td>kamal</td>\n",
       "      <td>-1.221831</td>\n",
       "    </tr>\n",
       "    <tr>\n",
       "      <th>b</th>\n",
       "      <td>-0.598395</td>\n",
       "      <td>0.673302</td>\n",
       "      <td>-1.909231</td>\n",
       "      <td>bhavna</td>\n",
       "      <td>-1.834324</td>\n",
       "    </tr>\n",
       "    <tr>\n",
       "      <th>c</th>\n",
       "      <td>-0.698391</td>\n",
       "      <td>-1.085456</td>\n",
       "      <td>1.322230</td>\n",
       "      <td>tejas</td>\n",
       "      <td>-0.461617</td>\n",
       "    </tr>\n",
       "    <tr>\n",
       "      <th>d</th>\n",
       "      <td>0.818763</td>\n",
       "      <td>-0.939791</td>\n",
       "      <td>2.655465</td>\n",
       "      <td>anu</td>\n",
       "      <td>2.534437</td>\n",
       "    </tr>\n",
       "  </tbody>\n",
       "</table>\n",
       "</div>"
      ],
      "text/plain": [
       "          x         y         z    name       new\n",
       "a -0.166409 -1.106290  0.050869   kamal -1.221831\n",
       "b -0.598395  0.673302 -1.909231  bhavna -1.834324\n",
       "c -0.698391 -1.085456  1.322230   tejas -0.461617\n",
       "d  0.818763 -0.939791  2.655465     anu  2.534437"
      ]
     },
     "execution_count": 49,
     "metadata": {},
     "output_type": "execute_result"
    }
   ],
   "source": [
    "df[(df['x']>0.5)|df['z']>0.5]"
   ]
  },
  {
   "cell_type": "code",
   "execution_count": 50,
   "id": "5fc0a3df",
   "metadata": {},
   "outputs": [],
   "source": [
    "x=np.random.randint(1,100,12).reshape(4,3)"
   ]
  },
  {
   "cell_type": "code",
   "execution_count": 51,
   "id": "fb89f99f",
   "metadata": {},
   "outputs": [
    {
     "data": {
      "text/plain": [
       "array([[96, 23, 38],\n",
       "       [44,  3,  2],\n",
       "       [50, 90, 72],\n",
       "       [45, 65, 98]])"
      ]
     },
     "execution_count": 51,
     "metadata": {},
     "output_type": "execute_result"
    }
   ],
   "source": [
    "x"
   ]
  },
  {
   "cell_type": "code",
   "execution_count": 52,
   "id": "1fbd84ab",
   "metadata": {},
   "outputs": [],
   "source": [
    "df1=pd.DataFrame(data=x,index='w x y z'.split(),columns=['A','B','C'])"
   ]
  },
  {
   "cell_type": "code",
   "execution_count": 53,
   "id": "4f2d4dcd",
   "metadata": {},
   "outputs": [
    {
     "data": {
      "text/html": [
       "<div>\n",
       "<style scoped>\n",
       "    .dataframe tbody tr th:only-of-type {\n",
       "        vertical-align: middle;\n",
       "    }\n",
       "\n",
       "    .dataframe tbody tr th {\n",
       "        vertical-align: top;\n",
       "    }\n",
       "\n",
       "    .dataframe thead th {\n",
       "        text-align: right;\n",
       "    }\n",
       "</style>\n",
       "<table border=\"1\" class=\"dataframe\">\n",
       "  <thead>\n",
       "    <tr style=\"text-align: right;\">\n",
       "      <th></th>\n",
       "      <th>A</th>\n",
       "      <th>B</th>\n",
       "      <th>C</th>\n",
       "    </tr>\n",
       "  </thead>\n",
       "  <tbody>\n",
       "    <tr>\n",
       "      <th>w</th>\n",
       "      <td>96</td>\n",
       "      <td>23</td>\n",
       "      <td>38</td>\n",
       "    </tr>\n",
       "    <tr>\n",
       "      <th>x</th>\n",
       "      <td>44</td>\n",
       "      <td>3</td>\n",
       "      <td>2</td>\n",
       "    </tr>\n",
       "    <tr>\n",
       "      <th>y</th>\n",
       "      <td>50</td>\n",
       "      <td>90</td>\n",
       "      <td>72</td>\n",
       "    </tr>\n",
       "    <tr>\n",
       "      <th>z</th>\n",
       "      <td>45</td>\n",
       "      <td>65</td>\n",
       "      <td>98</td>\n",
       "    </tr>\n",
       "  </tbody>\n",
       "</table>\n",
       "</div>"
      ],
      "text/plain": [
       "    A   B   C\n",
       "w  96  23  38\n",
       "x  44   3   2\n",
       "y  50  90  72\n",
       "z  45  65  98"
      ]
     },
     "execution_count": 53,
     "metadata": {},
     "output_type": "execute_result"
    }
   ],
   "source": [
    "df1"
   ]
  },
  {
   "cell_type": "code",
   "execution_count": 54,
   "id": "eb867fc9",
   "metadata": {},
   "outputs": [],
   "source": [
    "df1['Regulations']=['LDTI','US GAAP','SOLVANCYII','IFRS17']"
   ]
  },
  {
   "cell_type": "code",
   "execution_count": 55,
   "id": "73b1228a",
   "metadata": {},
   "outputs": [
    {
     "data": {
      "text/html": [
       "<div>\n",
       "<style scoped>\n",
       "    .dataframe tbody tr th:only-of-type {\n",
       "        vertical-align: middle;\n",
       "    }\n",
       "\n",
       "    .dataframe tbody tr th {\n",
       "        vertical-align: top;\n",
       "    }\n",
       "\n",
       "    .dataframe thead th {\n",
       "        text-align: right;\n",
       "    }\n",
       "</style>\n",
       "<table border=\"1\" class=\"dataframe\">\n",
       "  <thead>\n",
       "    <tr style=\"text-align: right;\">\n",
       "      <th></th>\n",
       "      <th>A</th>\n",
       "      <th>B</th>\n",
       "      <th>C</th>\n",
       "      <th>Regulations</th>\n",
       "    </tr>\n",
       "  </thead>\n",
       "  <tbody>\n",
       "    <tr>\n",
       "      <th>w</th>\n",
       "      <td>96</td>\n",
       "      <td>23</td>\n",
       "      <td>38</td>\n",
       "      <td>LDTI</td>\n",
       "    </tr>\n",
       "    <tr>\n",
       "      <th>x</th>\n",
       "      <td>44</td>\n",
       "      <td>3</td>\n",
       "      <td>2</td>\n",
       "      <td>US GAAP</td>\n",
       "    </tr>\n",
       "    <tr>\n",
       "      <th>y</th>\n",
       "      <td>50</td>\n",
       "      <td>90</td>\n",
       "      <td>72</td>\n",
       "      <td>SOLVANCYII</td>\n",
       "    </tr>\n",
       "    <tr>\n",
       "      <th>z</th>\n",
       "      <td>45</td>\n",
       "      <td>65</td>\n",
       "      <td>98</td>\n",
       "      <td>IFRS17</td>\n",
       "    </tr>\n",
       "  </tbody>\n",
       "</table>\n",
       "</div>"
      ],
      "text/plain": [
       "    A   B   C Regulations\n",
       "w  96  23  38        LDTI\n",
       "x  44   3   2     US GAAP\n",
       "y  50  90  72  SOLVANCYII\n",
       "z  45  65  98      IFRS17"
      ]
     },
     "execution_count": 55,
     "metadata": {},
     "output_type": "execute_result"
    }
   ],
   "source": [
    "df1"
   ]
  },
  {
   "cell_type": "code",
   "execution_count": 56,
   "id": "6d4b02cc",
   "metadata": {},
   "outputs": [
    {
     "data": {
      "text/html": [
       "<div>\n",
       "<style scoped>\n",
       "    .dataframe tbody tr th:only-of-type {\n",
       "        vertical-align: middle;\n",
       "    }\n",
       "\n",
       "    .dataframe tbody tr th {\n",
       "        vertical-align: top;\n",
       "    }\n",
       "\n",
       "    .dataframe thead th {\n",
       "        text-align: right;\n",
       "    }\n",
       "</style>\n",
       "<table border=\"1\" class=\"dataframe\">\n",
       "  <thead>\n",
       "    <tr style=\"text-align: right;\">\n",
       "      <th></th>\n",
       "      <th>A</th>\n",
       "      <th>B</th>\n",
       "      <th>C</th>\n",
       "      <th>Regulations</th>\n",
       "    </tr>\n",
       "  </thead>\n",
       "  <tbody>\n",
       "    <tr>\n",
       "      <th>x</th>\n",
       "      <td>44</td>\n",
       "      <td>3</td>\n",
       "      <td>2</td>\n",
       "      <td>US GAAP</td>\n",
       "    </tr>\n",
       "  </tbody>\n",
       "</table>\n",
       "</div>"
      ],
      "text/plain": [
       "    A  B  C Regulations\n",
       "x  44  3  2     US GAAP"
      ]
     },
     "execution_count": 56,
     "metadata": {},
     "output_type": "execute_result"
    }
   ],
   "source": [
    "#single value\n",
    "df1[df1['Regulations']=='US GAAP']"
   ]
  },
  {
   "cell_type": "code",
   "execution_count": 57,
   "id": "2d264587",
   "metadata": {},
   "outputs": [],
   "source": [
    "#Multiple values\n",
    "reg=['LDTI','IFRS17']"
   ]
  },
  {
   "cell_type": "code",
   "execution_count": 58,
   "id": "82b41b99",
   "metadata": {},
   "outputs": [
    {
     "data": {
      "text/html": [
       "<div>\n",
       "<style scoped>\n",
       "    .dataframe tbody tr th:only-of-type {\n",
       "        vertical-align: middle;\n",
       "    }\n",
       "\n",
       "    .dataframe tbody tr th {\n",
       "        vertical-align: top;\n",
       "    }\n",
       "\n",
       "    .dataframe thead th {\n",
       "        text-align: right;\n",
       "    }\n",
       "</style>\n",
       "<table border=\"1\" class=\"dataframe\">\n",
       "  <thead>\n",
       "    <tr style=\"text-align: right;\">\n",
       "      <th></th>\n",
       "      <th>A</th>\n",
       "      <th>B</th>\n",
       "      <th>C</th>\n",
       "      <th>Regulations</th>\n",
       "    </tr>\n",
       "  </thead>\n",
       "  <tbody>\n",
       "    <tr>\n",
       "      <th>w</th>\n",
       "      <td>96</td>\n",
       "      <td>23</td>\n",
       "      <td>38</td>\n",
       "      <td>LDTI</td>\n",
       "    </tr>\n",
       "    <tr>\n",
       "      <th>z</th>\n",
       "      <td>45</td>\n",
       "      <td>65</td>\n",
       "      <td>98</td>\n",
       "      <td>IFRS17</td>\n",
       "    </tr>\n",
       "  </tbody>\n",
       "</table>\n",
       "</div>"
      ],
      "text/plain": [
       "    A   B   C Regulations\n",
       "w  96  23  38        LDTI\n",
       "z  45  65  98      IFRS17"
      ]
     },
     "execution_count": 58,
     "metadata": {},
     "output_type": "execute_result"
    }
   ],
   "source": [
    "df1[df1['Regulations'].isin(reg)]"
   ]
  },
  {
   "cell_type": "code",
   "execution_count": 59,
   "id": "56da1ae6",
   "metadata": {},
   "outputs": [
    {
     "data": {
      "text/html": [
       "<div>\n",
       "<style scoped>\n",
       "    .dataframe tbody tr th:only-of-type {\n",
       "        vertical-align: middle;\n",
       "    }\n",
       "\n",
       "    .dataframe tbody tr th {\n",
       "        vertical-align: top;\n",
       "    }\n",
       "\n",
       "    .dataframe thead th {\n",
       "        text-align: right;\n",
       "    }\n",
       "</style>\n",
       "<table border=\"1\" class=\"dataframe\">\n",
       "  <thead>\n",
       "    <tr style=\"text-align: right;\">\n",
       "      <th></th>\n",
       "      <th>x</th>\n",
       "      <th>y</th>\n",
       "      <th>z</th>\n",
       "      <th>name</th>\n",
       "      <th>new</th>\n",
       "    </tr>\n",
       "  </thead>\n",
       "  <tbody>\n",
       "    <tr>\n",
       "      <th>a</th>\n",
       "      <td>-0.166409</td>\n",
       "      <td>-1.106290</td>\n",
       "      <td>0.050869</td>\n",
       "      <td>kamal</td>\n",
       "      <td>-1.221831</td>\n",
       "    </tr>\n",
       "    <tr>\n",
       "      <th>b</th>\n",
       "      <td>-0.598395</td>\n",
       "      <td>0.673302</td>\n",
       "      <td>-1.909231</td>\n",
       "      <td>bhavna</td>\n",
       "      <td>-1.834324</td>\n",
       "    </tr>\n",
       "    <tr>\n",
       "      <th>c</th>\n",
       "      <td>-0.698391</td>\n",
       "      <td>-1.085456</td>\n",
       "      <td>1.322230</td>\n",
       "      <td>tejas</td>\n",
       "      <td>-0.461617</td>\n",
       "    </tr>\n",
       "    <tr>\n",
       "      <th>d</th>\n",
       "      <td>0.818763</td>\n",
       "      <td>-0.939791</td>\n",
       "      <td>2.655465</td>\n",
       "      <td>anu</td>\n",
       "      <td>2.534437</td>\n",
       "    </tr>\n",
       "  </tbody>\n",
       "</table>\n",
       "</div>"
      ],
      "text/plain": [
       "          x         y         z    name       new\n",
       "a -0.166409 -1.106290  0.050869   kamal -1.221831\n",
       "b -0.598395  0.673302 -1.909231  bhavna -1.834324\n",
       "c -0.698391 -1.085456  1.322230   tejas -0.461617\n",
       "d  0.818763 -0.939791  2.655465     anu  2.534437"
      ]
     },
     "execution_count": 59,
     "metadata": {},
     "output_type": "execute_result"
    }
   ],
   "source": [
    "df"
   ]
  },
  {
   "cell_type": "code",
   "execution_count": 60,
   "id": "a484e54d",
   "metadata": {},
   "outputs": [
    {
     "data": {
      "text/html": [
       "<div>\n",
       "<style scoped>\n",
       "    .dataframe tbody tr th:only-of-type {\n",
       "        vertical-align: middle;\n",
       "    }\n",
       "\n",
       "    .dataframe tbody tr th {\n",
       "        vertical-align: top;\n",
       "    }\n",
       "\n",
       "    .dataframe thead th {\n",
       "        text-align: right;\n",
       "    }\n",
       "</style>\n",
       "<table border=\"1\" class=\"dataframe\">\n",
       "  <thead>\n",
       "    <tr style=\"text-align: right;\">\n",
       "      <th></th>\n",
       "      <th>index</th>\n",
       "      <th>x</th>\n",
       "      <th>y</th>\n",
       "      <th>z</th>\n",
       "      <th>name</th>\n",
       "      <th>new</th>\n",
       "    </tr>\n",
       "  </thead>\n",
       "  <tbody>\n",
       "    <tr>\n",
       "      <th>0</th>\n",
       "      <td>a</td>\n",
       "      <td>-0.166409</td>\n",
       "      <td>-1.106290</td>\n",
       "      <td>0.050869</td>\n",
       "      <td>kamal</td>\n",
       "      <td>-1.221831</td>\n",
       "    </tr>\n",
       "    <tr>\n",
       "      <th>1</th>\n",
       "      <td>b</td>\n",
       "      <td>-0.598395</td>\n",
       "      <td>0.673302</td>\n",
       "      <td>-1.909231</td>\n",
       "      <td>bhavna</td>\n",
       "      <td>-1.834324</td>\n",
       "    </tr>\n",
       "    <tr>\n",
       "      <th>2</th>\n",
       "      <td>c</td>\n",
       "      <td>-0.698391</td>\n",
       "      <td>-1.085456</td>\n",
       "      <td>1.322230</td>\n",
       "      <td>tejas</td>\n",
       "      <td>-0.461617</td>\n",
       "    </tr>\n",
       "    <tr>\n",
       "      <th>3</th>\n",
       "      <td>d</td>\n",
       "      <td>0.818763</td>\n",
       "      <td>-0.939791</td>\n",
       "      <td>2.655465</td>\n",
       "      <td>anu</td>\n",
       "      <td>2.534437</td>\n",
       "    </tr>\n",
       "  </tbody>\n",
       "</table>\n",
       "</div>"
      ],
      "text/plain": [
       "  index         x         y         z    name       new\n",
       "0     a -0.166409 -1.106290  0.050869   kamal -1.221831\n",
       "1     b -0.598395  0.673302 -1.909231  bhavna -1.834324\n",
       "2     c -0.698391 -1.085456  1.322230   tejas -0.461617\n",
       "3     d  0.818763 -0.939791  2.655465     anu  2.534437"
      ]
     },
     "execution_count": 60,
     "metadata": {},
     "output_type": "execute_result"
    }
   ],
   "source": [
    "df.reset_index()"
   ]
  },
  {
   "cell_type": "code",
   "execution_count": 61,
   "id": "2629a6b5",
   "metadata": {},
   "outputs": [],
   "source": [
    "df['country name']=['USA','china','hungry','denmark']"
   ]
  },
  {
   "cell_type": "code",
   "execution_count": 62,
   "id": "2f9e652b",
   "metadata": {},
   "outputs": [],
   "source": [
    "df.set_index('country name',inplace=True)\n",
    "#here we are setting our index as country name"
   ]
  },
  {
   "cell_type": "code",
   "execution_count": 63,
   "id": "9c888350",
   "metadata": {},
   "outputs": [
    {
     "data": {
      "text/html": [
       "<div>\n",
       "<style scoped>\n",
       "    .dataframe tbody tr th:only-of-type {\n",
       "        vertical-align: middle;\n",
       "    }\n",
       "\n",
       "    .dataframe tbody tr th {\n",
       "        vertical-align: top;\n",
       "    }\n",
       "\n",
       "    .dataframe thead th {\n",
       "        text-align: right;\n",
       "    }\n",
       "</style>\n",
       "<table border=\"1\" class=\"dataframe\">\n",
       "  <thead>\n",
       "    <tr style=\"text-align: right;\">\n",
       "      <th></th>\n",
       "      <th>x</th>\n",
       "      <th>y</th>\n",
       "      <th>z</th>\n",
       "      <th>name</th>\n",
       "      <th>new</th>\n",
       "    </tr>\n",
       "    <tr>\n",
       "      <th>country name</th>\n",
       "      <th></th>\n",
       "      <th></th>\n",
       "      <th></th>\n",
       "      <th></th>\n",
       "      <th></th>\n",
       "    </tr>\n",
       "  </thead>\n",
       "  <tbody>\n",
       "    <tr>\n",
       "      <th>USA</th>\n",
       "      <td>-0.166409</td>\n",
       "      <td>-1.106290</td>\n",
       "      <td>0.050869</td>\n",
       "      <td>kamal</td>\n",
       "      <td>-1.221831</td>\n",
       "    </tr>\n",
       "    <tr>\n",
       "      <th>china</th>\n",
       "      <td>-0.598395</td>\n",
       "      <td>0.673302</td>\n",
       "      <td>-1.909231</td>\n",
       "      <td>bhavna</td>\n",
       "      <td>-1.834324</td>\n",
       "    </tr>\n",
       "    <tr>\n",
       "      <th>hungry</th>\n",
       "      <td>-0.698391</td>\n",
       "      <td>-1.085456</td>\n",
       "      <td>1.322230</td>\n",
       "      <td>tejas</td>\n",
       "      <td>-0.461617</td>\n",
       "    </tr>\n",
       "    <tr>\n",
       "      <th>denmark</th>\n",
       "      <td>0.818763</td>\n",
       "      <td>-0.939791</td>\n",
       "      <td>2.655465</td>\n",
       "      <td>anu</td>\n",
       "      <td>2.534437</td>\n",
       "    </tr>\n",
       "  </tbody>\n",
       "</table>\n",
       "</div>"
      ],
      "text/plain": [
       "                     x         y         z    name       new\n",
       "country name                                                \n",
       "USA          -0.166409 -1.106290  0.050869   kamal -1.221831\n",
       "china        -0.598395  0.673302 -1.909231  bhavna -1.834324\n",
       "hungry       -0.698391 -1.085456  1.322230   tejas -0.461617\n",
       "denmark       0.818763 -0.939791  2.655465     anu  2.534437"
      ]
     },
     "execution_count": 63,
     "metadata": {},
     "output_type": "execute_result"
    }
   ],
   "source": [
    "df"
   ]
  },
  {
   "cell_type": "code",
   "execution_count": 64,
   "id": "ba1712cf",
   "metadata": {},
   "outputs": [],
   "source": [
    "#multiple index crossection - xs\n",
    "outer=['india','india','india','india','usa','usa','usa','usa']\n",
    "inner=[1,2,3,4,1,2,3,4]"
   ]
  },
  {
   "cell_type": "code",
   "execution_count": 65,
   "id": "09d37e87",
   "metadata": {},
   "outputs": [],
   "source": [
    "mytuple=list(zip(outer,inner))"
   ]
  },
  {
   "cell_type": "code",
   "execution_count": 66,
   "id": "0e49d25a",
   "metadata": {},
   "outputs": [
    {
     "data": {
      "text/plain": [
       "[('india', 1),\n",
       " ('india', 2),\n",
       " ('india', 3),\n",
       " ('india', 4),\n",
       " ('usa', 1),\n",
       " ('usa', 2),\n",
       " ('usa', 3),\n",
       " ('usa', 4)]"
      ]
     },
     "execution_count": 66,
     "metadata": {},
     "output_type": "execute_result"
    }
   ],
   "source": [
    "mytuple"
   ]
  },
  {
   "cell_type": "code",
   "execution_count": 67,
   "id": "312316ea",
   "metadata": {},
   "outputs": [],
   "source": [
    "multi_index=pd.MultiIndex.from_tuples(mytuple)"
   ]
  },
  {
   "cell_type": "code",
   "execution_count": 68,
   "id": "0d68a290",
   "metadata": {},
   "outputs": [],
   "source": [
    "df=pd.DataFrame(data=np.random.randn(8,2),index=multi_index,columns=['A','B'])"
   ]
  },
  {
   "cell_type": "code",
   "execution_count": 69,
   "id": "59436e37",
   "metadata": {},
   "outputs": [
    {
     "data": {
      "text/html": [
       "<div>\n",
       "<style scoped>\n",
       "    .dataframe tbody tr th:only-of-type {\n",
       "        vertical-align: middle;\n",
       "    }\n",
       "\n",
       "    .dataframe tbody tr th {\n",
       "        vertical-align: top;\n",
       "    }\n",
       "\n",
       "    .dataframe thead th {\n",
       "        text-align: right;\n",
       "    }\n",
       "</style>\n",
       "<table border=\"1\" class=\"dataframe\">\n",
       "  <thead>\n",
       "    <tr style=\"text-align: right;\">\n",
       "      <th></th>\n",
       "      <th></th>\n",
       "      <th>A</th>\n",
       "      <th>B</th>\n",
       "    </tr>\n",
       "  </thead>\n",
       "  <tbody>\n",
       "    <tr>\n",
       "      <th rowspan=\"4\" valign=\"top\">india</th>\n",
       "      <th>1</th>\n",
       "      <td>1.166070</td>\n",
       "      <td>0.153917</td>\n",
       "    </tr>\n",
       "    <tr>\n",
       "      <th>2</th>\n",
       "      <td>0.855794</td>\n",
       "      <td>0.759963</td>\n",
       "    </tr>\n",
       "    <tr>\n",
       "      <th>3</th>\n",
       "      <td>-0.386484</td>\n",
       "      <td>0.386769</td>\n",
       "    </tr>\n",
       "    <tr>\n",
       "      <th>4</th>\n",
       "      <td>1.428976</td>\n",
       "      <td>-1.677756</td>\n",
       "    </tr>\n",
       "    <tr>\n",
       "      <th rowspan=\"4\" valign=\"top\">usa</th>\n",
       "      <th>1</th>\n",
       "      <td>-0.121802</td>\n",
       "      <td>0.272464</td>\n",
       "    </tr>\n",
       "    <tr>\n",
       "      <th>2</th>\n",
       "      <td>0.270041</td>\n",
       "      <td>-0.442926</td>\n",
       "    </tr>\n",
       "    <tr>\n",
       "      <th>3</th>\n",
       "      <td>-0.209244</td>\n",
       "      <td>0.233936</td>\n",
       "    </tr>\n",
       "    <tr>\n",
       "      <th>4</th>\n",
       "      <td>0.518248</td>\n",
       "      <td>-1.491048</td>\n",
       "    </tr>\n",
       "  </tbody>\n",
       "</table>\n",
       "</div>"
      ],
      "text/plain": [
       "                A         B\n",
       "india 1  1.166070  0.153917\n",
       "      2  0.855794  0.759963\n",
       "      3 -0.386484  0.386769\n",
       "      4  1.428976 -1.677756\n",
       "usa   1 -0.121802  0.272464\n",
       "      2  0.270041 -0.442926\n",
       "      3 -0.209244  0.233936\n",
       "      4  0.518248 -1.491048"
      ]
     },
     "execution_count": 69,
     "metadata": {},
     "output_type": "execute_result"
    }
   ],
   "source": [
    "df"
   ]
  },
  {
   "cell_type": "code",
   "execution_count": 70,
   "id": "b55752c4",
   "metadata": {},
   "outputs": [
    {
     "data": {
      "text/html": [
       "<div>\n",
       "<style scoped>\n",
       "    .dataframe tbody tr th:only-of-type {\n",
       "        vertical-align: middle;\n",
       "    }\n",
       "\n",
       "    .dataframe tbody tr th {\n",
       "        vertical-align: top;\n",
       "    }\n",
       "\n",
       "    .dataframe thead th {\n",
       "        text-align: right;\n",
       "    }\n",
       "</style>\n",
       "<table border=\"1\" class=\"dataframe\">\n",
       "  <thead>\n",
       "    <tr style=\"text-align: right;\">\n",
       "      <th></th>\n",
       "      <th>A</th>\n",
       "      <th>B</th>\n",
       "    </tr>\n",
       "  </thead>\n",
       "  <tbody>\n",
       "    <tr>\n",
       "      <th>1</th>\n",
       "      <td>1.166070</td>\n",
       "      <td>0.153917</td>\n",
       "    </tr>\n",
       "    <tr>\n",
       "      <th>2</th>\n",
       "      <td>0.855794</td>\n",
       "      <td>0.759963</td>\n",
       "    </tr>\n",
       "    <tr>\n",
       "      <th>3</th>\n",
       "      <td>-0.386484</td>\n",
       "      <td>0.386769</td>\n",
       "    </tr>\n",
       "    <tr>\n",
       "      <th>4</th>\n",
       "      <td>1.428976</td>\n",
       "      <td>-1.677756</td>\n",
       "    </tr>\n",
       "  </tbody>\n",
       "</table>\n",
       "</div>"
      ],
      "text/plain": [
       "          A         B\n",
       "1  1.166070  0.153917\n",
       "2  0.855794  0.759963\n",
       "3 -0.386484  0.386769\n",
       "4  1.428976 -1.677756"
      ]
     },
     "execution_count": 70,
     "metadata": {},
     "output_type": "execute_result"
    }
   ],
   "source": [
    "#index outer \n",
    "df.loc['india']"
   ]
  },
  {
   "cell_type": "code",
   "execution_count": 71,
   "id": "d271099b",
   "metadata": {},
   "outputs": [
    {
     "data": {
      "text/html": [
       "<div>\n",
       "<style scoped>\n",
       "    .dataframe tbody tr th:only-of-type {\n",
       "        vertical-align: middle;\n",
       "    }\n",
       "\n",
       "    .dataframe tbody tr th {\n",
       "        vertical-align: top;\n",
       "    }\n",
       "\n",
       "    .dataframe thead th {\n",
       "        text-align: right;\n",
       "    }\n",
       "</style>\n",
       "<table border=\"1\" class=\"dataframe\">\n",
       "  <thead>\n",
       "    <tr style=\"text-align: right;\">\n",
       "      <th></th>\n",
       "      <th>A</th>\n",
       "      <th>B</th>\n",
       "    </tr>\n",
       "  </thead>\n",
       "  <tbody>\n",
       "    <tr>\n",
       "      <th>1</th>\n",
       "      <td>-0.121802</td>\n",
       "      <td>0.272464</td>\n",
       "    </tr>\n",
       "    <tr>\n",
       "      <th>2</th>\n",
       "      <td>0.270041</td>\n",
       "      <td>-0.442926</td>\n",
       "    </tr>\n",
       "    <tr>\n",
       "      <th>3</th>\n",
       "      <td>-0.209244</td>\n",
       "      <td>0.233936</td>\n",
       "    </tr>\n",
       "    <tr>\n",
       "      <th>4</th>\n",
       "      <td>0.518248</td>\n",
       "      <td>-1.491048</td>\n",
       "    </tr>\n",
       "  </tbody>\n",
       "</table>\n",
       "</div>"
      ],
      "text/plain": [
       "          A         B\n",
       "1 -0.121802  0.272464\n",
       "2  0.270041 -0.442926\n",
       "3 -0.209244  0.233936\n",
       "4  0.518248 -1.491048"
      ]
     },
     "execution_count": 71,
     "metadata": {},
     "output_type": "execute_result"
    }
   ],
   "source": [
    "df.loc['usa']"
   ]
  },
  {
   "cell_type": "code",
   "execution_count": 72,
   "id": "71e90621",
   "metadata": {},
   "outputs": [
    {
     "data": {
      "text/html": [
       "<div>\n",
       "<style scoped>\n",
       "    .dataframe tbody tr th:only-of-type {\n",
       "        vertical-align: middle;\n",
       "    }\n",
       "\n",
       "    .dataframe tbody tr th {\n",
       "        vertical-align: top;\n",
       "    }\n",
       "\n",
       "    .dataframe thead th {\n",
       "        text-align: right;\n",
       "    }\n",
       "</style>\n",
       "<table border=\"1\" class=\"dataframe\">\n",
       "  <thead>\n",
       "    <tr style=\"text-align: right;\">\n",
       "      <th></th>\n",
       "      <th>A</th>\n",
       "      <th>B</th>\n",
       "    </tr>\n",
       "  </thead>\n",
       "  <tbody>\n",
       "    <tr>\n",
       "      <th>1</th>\n",
       "      <td>1.166070</td>\n",
       "      <td>0.153917</td>\n",
       "    </tr>\n",
       "    <tr>\n",
       "      <th>2</th>\n",
       "      <td>0.855794</td>\n",
       "      <td>0.759963</td>\n",
       "    </tr>\n",
       "    <tr>\n",
       "      <th>3</th>\n",
       "      <td>-0.386484</td>\n",
       "      <td>0.386769</td>\n",
       "    </tr>\n",
       "    <tr>\n",
       "      <th>4</th>\n",
       "      <td>1.428976</td>\n",
       "      <td>-1.677756</td>\n",
       "    </tr>\n",
       "  </tbody>\n",
       "</table>\n",
       "</div>"
      ],
      "text/plain": [
       "          A         B\n",
       "1  1.166070  0.153917\n",
       "2  0.855794  0.759963\n",
       "3 -0.386484  0.386769\n",
       "4  1.428976 -1.677756"
      ]
     },
     "execution_count": 72,
     "metadata": {},
     "output_type": "execute_result"
    }
   ],
   "source": [
    "df.loc['india']"
   ]
  },
  {
   "cell_type": "code",
   "execution_count": 73,
   "id": "dfa0ae62",
   "metadata": {},
   "outputs": [
    {
     "data": {
      "text/plain": [
       "['india', 'india', 'india', 'india', 'usa', 'usa', 'usa', 'usa']"
      ]
     },
     "execution_count": 73,
     "metadata": {},
     "output_type": "execute_result"
    }
   ],
   "source": [
    "outer"
   ]
  },
  {
   "cell_type": "code",
   "execution_count": 74,
   "id": "46582b4d",
   "metadata": {},
   "outputs": [
    {
     "data": {
      "text/plain": [
       "[1, 2, 3, 4, 1, 2, 3, 4]"
      ]
     },
     "execution_count": 74,
     "metadata": {},
     "output_type": "execute_result"
    }
   ],
   "source": [
    "inner"
   ]
  },
  {
   "cell_type": "code",
   "execution_count": 75,
   "id": "6b9bb99b",
   "metadata": {},
   "outputs": [],
   "source": [
    "import numpy as np"
   ]
  },
  {
   "cell_type": "code",
   "execution_count": 76,
   "id": "2eb878dc",
   "metadata": {},
   "outputs": [],
   "source": [
    "import seaborn as sns"
   ]
  },
  {
   "cell_type": "code",
   "execution_count": 77,
   "id": "4b06718d",
   "metadata": {},
   "outputs": [
    {
     "data": {
      "text/html": [
       "<div>\n",
       "<style scoped>\n",
       "    .dataframe tbody tr th:only-of-type {\n",
       "        vertical-align: middle;\n",
       "    }\n",
       "\n",
       "    .dataframe tbody tr th {\n",
       "        vertical-align: top;\n",
       "    }\n",
       "\n",
       "    .dataframe thead th {\n",
       "        text-align: right;\n",
       "    }\n",
       "</style>\n",
       "<table border=\"1\" class=\"dataframe\">\n",
       "  <thead>\n",
       "    <tr style=\"text-align: right;\">\n",
       "      <th></th>\n",
       "      <th>A</th>\n",
       "      <th>B</th>\n",
       "      <th>C</th>\n",
       "      <th>Regulations</th>\n",
       "    </tr>\n",
       "  </thead>\n",
       "  <tbody>\n",
       "    <tr>\n",
       "      <th>w</th>\n",
       "      <td>96</td>\n",
       "      <td>23</td>\n",
       "      <td>38</td>\n",
       "      <td>LDTI</td>\n",
       "    </tr>\n",
       "    <tr>\n",
       "      <th>x</th>\n",
       "      <td>44</td>\n",
       "      <td>3</td>\n",
       "      <td>2</td>\n",
       "      <td>US GAAP</td>\n",
       "    </tr>\n",
       "    <tr>\n",
       "      <th>y</th>\n",
       "      <td>50</td>\n",
       "      <td>90</td>\n",
       "      <td>72</td>\n",
       "      <td>SOLVANCYII</td>\n",
       "    </tr>\n",
       "    <tr>\n",
       "      <th>z</th>\n",
       "      <td>45</td>\n",
       "      <td>65</td>\n",
       "      <td>98</td>\n",
       "      <td>IFRS17</td>\n",
       "    </tr>\n",
       "  </tbody>\n",
       "</table>\n",
       "</div>"
      ],
      "text/plain": [
       "    A   B   C Regulations\n",
       "w  96  23  38        LDTI\n",
       "x  44   3   2     US GAAP\n",
       "y  50  90  72  SOLVANCYII\n",
       "z  45  65  98      IFRS17"
      ]
     },
     "execution_count": 77,
     "metadata": {},
     "output_type": "execute_result"
    }
   ],
   "source": [
    "df1"
   ]
  },
  {
   "cell_type": "code",
   "execution_count": 78,
   "id": "3eeae48a",
   "metadata": {},
   "outputs": [
    {
     "data": {
      "text/html": [
       "<div>\n",
       "<style scoped>\n",
       "    .dataframe tbody tr th:only-of-type {\n",
       "        vertical-align: middle;\n",
       "    }\n",
       "\n",
       "    .dataframe tbody tr th {\n",
       "        vertical-align: top;\n",
       "    }\n",
       "\n",
       "    .dataframe thead th {\n",
       "        text-align: right;\n",
       "    }\n",
       "</style>\n",
       "<table border=\"1\" class=\"dataframe\">\n",
       "  <thead>\n",
       "    <tr style=\"text-align: right;\">\n",
       "      <th></th>\n",
       "      <th></th>\n",
       "      <th>A</th>\n",
       "      <th>B</th>\n",
       "    </tr>\n",
       "  </thead>\n",
       "  <tbody>\n",
       "    <tr>\n",
       "      <th rowspan=\"4\" valign=\"top\">india</th>\n",
       "      <th>1</th>\n",
       "      <td>1.166070</td>\n",
       "      <td>0.153917</td>\n",
       "    </tr>\n",
       "    <tr>\n",
       "      <th>2</th>\n",
       "      <td>0.855794</td>\n",
       "      <td>0.759963</td>\n",
       "    </tr>\n",
       "    <tr>\n",
       "      <th>3</th>\n",
       "      <td>-0.386484</td>\n",
       "      <td>0.386769</td>\n",
       "    </tr>\n",
       "    <tr>\n",
       "      <th>4</th>\n",
       "      <td>1.428976</td>\n",
       "      <td>-1.677756</td>\n",
       "    </tr>\n",
       "    <tr>\n",
       "      <th rowspan=\"4\" valign=\"top\">usa</th>\n",
       "      <th>1</th>\n",
       "      <td>-0.121802</td>\n",
       "      <td>0.272464</td>\n",
       "    </tr>\n",
       "    <tr>\n",
       "      <th>2</th>\n",
       "      <td>0.270041</td>\n",
       "      <td>-0.442926</td>\n",
       "    </tr>\n",
       "    <tr>\n",
       "      <th>3</th>\n",
       "      <td>-0.209244</td>\n",
       "      <td>0.233936</td>\n",
       "    </tr>\n",
       "    <tr>\n",
       "      <th>4</th>\n",
       "      <td>0.518248</td>\n",
       "      <td>-1.491048</td>\n",
       "    </tr>\n",
       "  </tbody>\n",
       "</table>\n",
       "</div>"
      ],
      "text/plain": [
       "                A         B\n",
       "india 1  1.166070  0.153917\n",
       "      2  0.855794  0.759963\n",
       "      3 -0.386484  0.386769\n",
       "      4  1.428976 -1.677756\n",
       "usa   1 -0.121802  0.272464\n",
       "      2  0.270041 -0.442926\n",
       "      3 -0.209244  0.233936\n",
       "      4  0.518248 -1.491048"
      ]
     },
     "execution_count": 78,
     "metadata": {},
     "output_type": "execute_result"
    }
   ],
   "source": [
    "df"
   ]
  },
  {
   "cell_type": "code",
   "execution_count": 79,
   "id": "00785bf6",
   "metadata": {},
   "outputs": [],
   "source": [
    "# writing index\n",
    "df.index.names=['country','zone']"
   ]
  },
  {
   "cell_type": "code",
   "execution_count": 80,
   "id": "616a34b4",
   "metadata": {},
   "outputs": [
    {
     "data": {
      "text/html": [
       "<div>\n",
       "<style scoped>\n",
       "    .dataframe tbody tr th:only-of-type {\n",
       "        vertical-align: middle;\n",
       "    }\n",
       "\n",
       "    .dataframe tbody tr th {\n",
       "        vertical-align: top;\n",
       "    }\n",
       "\n",
       "    .dataframe thead th {\n",
       "        text-align: right;\n",
       "    }\n",
       "</style>\n",
       "<table border=\"1\" class=\"dataframe\">\n",
       "  <thead>\n",
       "    <tr style=\"text-align: right;\">\n",
       "      <th></th>\n",
       "      <th></th>\n",
       "      <th>A</th>\n",
       "      <th>B</th>\n",
       "    </tr>\n",
       "    <tr>\n",
       "      <th>country</th>\n",
       "      <th>zone</th>\n",
       "      <th></th>\n",
       "      <th></th>\n",
       "    </tr>\n",
       "  </thead>\n",
       "  <tbody>\n",
       "    <tr>\n",
       "      <th rowspan=\"4\" valign=\"top\">india</th>\n",
       "      <th>1</th>\n",
       "      <td>1.166070</td>\n",
       "      <td>0.153917</td>\n",
       "    </tr>\n",
       "    <tr>\n",
       "      <th>2</th>\n",
       "      <td>0.855794</td>\n",
       "      <td>0.759963</td>\n",
       "    </tr>\n",
       "    <tr>\n",
       "      <th>3</th>\n",
       "      <td>-0.386484</td>\n",
       "      <td>0.386769</td>\n",
       "    </tr>\n",
       "    <tr>\n",
       "      <th>4</th>\n",
       "      <td>1.428976</td>\n",
       "      <td>-1.677756</td>\n",
       "    </tr>\n",
       "    <tr>\n",
       "      <th rowspan=\"4\" valign=\"top\">usa</th>\n",
       "      <th>1</th>\n",
       "      <td>-0.121802</td>\n",
       "      <td>0.272464</td>\n",
       "    </tr>\n",
       "    <tr>\n",
       "      <th>2</th>\n",
       "      <td>0.270041</td>\n",
       "      <td>-0.442926</td>\n",
       "    </tr>\n",
       "    <tr>\n",
       "      <th>3</th>\n",
       "      <td>-0.209244</td>\n",
       "      <td>0.233936</td>\n",
       "    </tr>\n",
       "    <tr>\n",
       "      <th>4</th>\n",
       "      <td>0.518248</td>\n",
       "      <td>-1.491048</td>\n",
       "    </tr>\n",
       "  </tbody>\n",
       "</table>\n",
       "</div>"
      ],
      "text/plain": [
       "                     A         B\n",
       "country zone                    \n",
       "india   1     1.166070  0.153917\n",
       "        2     0.855794  0.759963\n",
       "        3    -0.386484  0.386769\n",
       "        4     1.428976 -1.677756\n",
       "usa     1    -0.121802  0.272464\n",
       "        2     0.270041 -0.442926\n",
       "        3    -0.209244  0.233936\n",
       "        4     0.518248 -1.491048"
      ]
     },
     "execution_count": 80,
     "metadata": {},
     "output_type": "execute_result"
    }
   ],
   "source": [
    "df"
   ]
  },
  {
   "cell_type": "code",
   "execution_count": 81,
   "id": "d024d9ea",
   "metadata": {},
   "outputs": [
    {
     "data": {
      "text/html": [
       "<div>\n",
       "<style scoped>\n",
       "    .dataframe tbody tr th:only-of-type {\n",
       "        vertical-align: middle;\n",
       "    }\n",
       "\n",
       "    .dataframe tbody tr th {\n",
       "        vertical-align: top;\n",
       "    }\n",
       "\n",
       "    .dataframe thead th {\n",
       "        text-align: right;\n",
       "    }\n",
       "</style>\n",
       "<table border=\"1\" class=\"dataframe\">\n",
       "  <thead>\n",
       "    <tr style=\"text-align: right;\">\n",
       "      <th></th>\n",
       "      <th>A</th>\n",
       "      <th>B</th>\n",
       "    </tr>\n",
       "    <tr>\n",
       "      <th>zone</th>\n",
       "      <th></th>\n",
       "      <th></th>\n",
       "    </tr>\n",
       "  </thead>\n",
       "  <tbody>\n",
       "    <tr>\n",
       "      <th>1</th>\n",
       "      <td>1.166070</td>\n",
       "      <td>0.153917</td>\n",
       "    </tr>\n",
       "    <tr>\n",
       "      <th>2</th>\n",
       "      <td>0.855794</td>\n",
       "      <td>0.759963</td>\n",
       "    </tr>\n",
       "    <tr>\n",
       "      <th>3</th>\n",
       "      <td>-0.386484</td>\n",
       "      <td>0.386769</td>\n",
       "    </tr>\n",
       "    <tr>\n",
       "      <th>4</th>\n",
       "      <td>1.428976</td>\n",
       "      <td>-1.677756</td>\n",
       "    </tr>\n",
       "  </tbody>\n",
       "</table>\n",
       "</div>"
      ],
      "text/plain": [
       "             A         B\n",
       "zone                    \n",
       "1     1.166070  0.153917\n",
       "2     0.855794  0.759963\n",
       "3    -0.386484  0.386769\n",
       "4     1.428976 -1.677756"
      ]
     },
     "execution_count": 81,
     "metadata": {},
     "output_type": "execute_result"
    }
   ],
   "source": [
    "#crossection xs\n",
    "df.xs('india')"
   ]
  },
  {
   "cell_type": "code",
   "execution_count": 82,
   "id": "c3c3cade",
   "metadata": {},
   "outputs": [
    {
     "data": {
      "text/html": [
       "<div>\n",
       "<style scoped>\n",
       "    .dataframe tbody tr th:only-of-type {\n",
       "        vertical-align: middle;\n",
       "    }\n",
       "\n",
       "    .dataframe tbody tr th {\n",
       "        vertical-align: top;\n",
       "    }\n",
       "\n",
       "    .dataframe thead th {\n",
       "        text-align: right;\n",
       "    }\n",
       "</style>\n",
       "<table border=\"1\" class=\"dataframe\">\n",
       "  <thead>\n",
       "    <tr style=\"text-align: right;\">\n",
       "      <th></th>\n",
       "      <th>A</th>\n",
       "      <th>B</th>\n",
       "    </tr>\n",
       "    <tr>\n",
       "      <th>country</th>\n",
       "      <th></th>\n",
       "      <th></th>\n",
       "    </tr>\n",
       "  </thead>\n",
       "  <tbody>\n",
       "    <tr>\n",
       "      <th>india</th>\n",
       "      <td>1.166070</td>\n",
       "      <td>0.153917</td>\n",
       "    </tr>\n",
       "    <tr>\n",
       "      <th>usa</th>\n",
       "      <td>-0.121802</td>\n",
       "      <td>0.272464</td>\n",
       "    </tr>\n",
       "  </tbody>\n",
       "</table>\n",
       "</div>"
      ],
      "text/plain": [
       "                A         B\n",
       "country                    \n",
       "india    1.166070  0.153917\n",
       "usa     -0.121802  0.272464"
      ]
     },
     "execution_count": 82,
     "metadata": {},
     "output_type": "execute_result"
    }
   ],
   "source": [
    "#how to extract value of zone 1 of both india and usa\n",
    "df.xs(key=1,level='zone')"
   ]
  },
  {
   "cell_type": "code",
   "execution_count": null,
   "id": "4c586c44",
   "metadata": {},
   "outputs": [],
   "source": []
  }
 ],
 "metadata": {
  "kernelspec": {
   "display_name": "Python 3",
   "language": "python",
   "name": "python3"
  },
  "language_info": {
   "codemirror_mode": {
    "name": "ipython",
    "version": 3
   },
   "file_extension": ".py",
   "mimetype": "text/x-python",
   "name": "python",
   "nbconvert_exporter": "python",
   "pygments_lexer": "ipython3",
   "version": "3.8.8"
  }
 },
 "nbformat": 4,
 "nbformat_minor": 5
}
