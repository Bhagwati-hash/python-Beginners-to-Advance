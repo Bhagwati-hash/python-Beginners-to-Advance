{
 "cells": [
  {
   "cell_type": "markdown",
   "id": "e5b5d9a4",
   "metadata": {},
   "source": [
    "**some useful features**"
   ]
  },
  {
   "cell_type": "code",
   "execution_count": 1,
   "id": "cfdf4171",
   "metadata": {},
   "outputs": [
    {
     "data": {
      "text/plain": [
       "[0, 1, 2, 3, 4, 5, 6, 7, 8, 9]"
      ]
     },
     "execution_count": 1,
     "metadata": {},
     "output_type": "execute_result"
    }
   ],
   "source": [
    "list(range(0,10))"
   ]
  },
  {
   "cell_type": "code",
   "execution_count": 2,
   "id": "0d7cdb62",
   "metadata": {},
   "outputs": [
    {
     "data": {
      "text/plain": [
       "[0, 3, 6, 9]"
      ]
     },
     "execution_count": 2,
     "metadata": {},
     "output_type": "execute_result"
    }
   ],
   "source": [
    "list(range(0,10,3))"
   ]
  },
  {
   "cell_type": "code",
   "execution_count": 3,
   "id": "fda9ec74",
   "metadata": {},
   "outputs": [],
   "source": [
    "#enumerate function it gives index automatically measurly use for For loops"
   ]
  },
  {
   "cell_type": "code",
   "execution_count": 11,
   "id": "5197a28a",
   "metadata": {},
   "outputs": [
    {
     "name": "stdout",
     "output_type": "stream",
     "text": [
      "At position 0 the value is H\n",
      "At position 1 the value is e\n",
      "At position 2 the value is l\n",
      "At position 3 the value is l\n",
      "At position 4 the value is o\n"
     ]
    }
   ],
   "source": [
    "#without enumerate\n",
    "index_count=0\n",
    "for i in \"Hello\":\n",
    "    print(f\"At position {index_count} the value is {i}\")\n",
    "    index_count=index_count+1"
   ]
  },
  {
   "cell_type": "code",
   "execution_count": 12,
   "id": "289355d9",
   "metadata": {},
   "outputs": [
    {
     "name": "stdout",
     "output_type": "stream",
     "text": [
      "at position 0 the element is h\n",
      "at position 1 the element is e\n",
      "at position 2 the element is l\n",
      "at position 3 the element is l\n",
      "at position 4 the element is o\n"
     ]
    }
   ],
   "source": [
    "#with enumerate\n",
    "for y,i in enumerate(\"hello\"):\n",
    "    print(f\"at position {y} the element is {i}\")"
   ]
  },
  {
   "cell_type": "code",
   "execution_count": 13,
   "id": "501f8086",
   "metadata": {},
   "outputs": [
    {
     "data": {
      "text/plain": [
       "<enumerate at 0x1d530107b80>"
      ]
     },
     "execution_count": 13,
     "metadata": {},
     "output_type": "execute_result"
    }
   ],
   "source": [
    "enumerate(\"hello\")"
   ]
  },
  {
   "cell_type": "code",
   "execution_count": 14,
   "id": "f8a23e61",
   "metadata": {},
   "outputs": [
    {
     "data": {
      "text/plain": [
       "[(0, 'h'), (1, 'e'), (2, 'l'), (3, 'l'), (4, 'o')]"
      ]
     },
     "execution_count": 14,
     "metadata": {},
     "output_type": "execute_result"
    }
   ],
   "source": [
    "list(enumerate(\"hello\"))"
   ]
  },
  {
   "cell_type": "code",
   "execution_count": 15,
   "id": "baee2ad2",
   "metadata": {},
   "outputs": [
    {
     "data": {
      "text/plain": [
       "{0: 'h', 1: 'e', 2: 'l', 3: 'l', 4: 'o'}"
      ]
     },
     "execution_count": 15,
     "metadata": {},
     "output_type": "execute_result"
    }
   ],
   "source": [
    "dict(enumerate(\"hello\"))"
   ]
  },
  {
   "cell_type": "code",
   "execution_count": 16,
   "id": "8db81fc6",
   "metadata": {},
   "outputs": [],
   "source": [
    "#zip\n"
   ]
  },
  {
   "cell_type": "code",
   "execution_count": 17,
   "id": "c912b22d",
   "metadata": {},
   "outputs": [],
   "source": [
    "my_assumptions=[\"mortality rate\",\"withdrawal rate\",\"tax rate\"]\n",
    "my_values=[\"AM92moratlity\",0.10,0.25]"
   ]
  },
  {
   "cell_type": "code",
   "execution_count": 18,
   "id": "2ae1fc89",
   "metadata": {},
   "outputs": [
    {
     "data": {
      "text/plain": [
       "<zip at 0x1d5310ce500>"
      ]
     },
     "execution_count": 18,
     "metadata": {},
     "output_type": "execute_result"
    }
   ],
   "source": [
    "zip(my_assumptions,my_values)"
   ]
  },
  {
   "cell_type": "code",
   "execution_count": 19,
   "id": "e0a93bb1",
   "metadata": {},
   "outputs": [
    {
     "data": {
      "text/plain": [
       "{'mortality rate': 'AM92moratlity', 'withdrawal rate': 0.1, 'tax rate': 0.25}"
      ]
     },
     "execution_count": 19,
     "metadata": {},
     "output_type": "execute_result"
    }
   ],
   "source": [
    "dict(zip(my_assumptions,my_values))"
   ]
  },
  {
   "cell_type": "code",
   "execution_count": 20,
   "id": "ba064c6b",
   "metadata": {},
   "outputs": [
    {
     "data": {
      "text/plain": [
       "True"
      ]
     },
     "execution_count": 20,
     "metadata": {},
     "output_type": "execute_result"
    }
   ],
   "source": [
    "# in function \n",
    "\"x\" in [\"x\",\"y\",\"z\"]"
   ]
  },
  {
   "cell_type": "code",
   "execution_count": 22,
   "id": "989e2bb5",
   "metadata": {},
   "outputs": [
    {
     "data": {
      "text/plain": [
       "False"
      ]
     },
     "execution_count": 22,
     "metadata": {},
     "output_type": "execute_result"
    }
   ],
   "source": [
    "# not in function\n",
    "\"x\" not in [\"x\",\"y\",\"z\"]"
   ]
  },
  {
   "cell_type": "code",
   "execution_count": 23,
   "id": "801e8a65",
   "metadata": {},
   "outputs": [],
   "source": [
    "my_list=[1,2,3,4,5,6]"
   ]
  },
  {
   "cell_type": "code",
   "execution_count": 24,
   "id": "57f49667",
   "metadata": {},
   "outputs": [
    {
     "data": {
      "text/plain": [
       "1"
      ]
     },
     "execution_count": 24,
     "metadata": {},
     "output_type": "execute_result"
    }
   ],
   "source": [
    "min(my_list)"
   ]
  },
  {
   "cell_type": "code",
   "execution_count": 25,
   "id": "782ab304",
   "metadata": {},
   "outputs": [
    {
     "data": {
      "text/plain": [
       "6"
      ]
     },
     "execution_count": 25,
     "metadata": {},
     "output_type": "execute_result"
    }
   ],
   "source": [
    "max(my_list)"
   ]
  },
  {
   "cell_type": "code",
   "execution_count": 26,
   "id": "17ddeb6a",
   "metadata": {},
   "outputs": [
    {
     "data": {
      "text/plain": [
       "21"
      ]
     },
     "execution_count": 26,
     "metadata": {},
     "output_type": "execute_result"
    }
   ],
   "source": [
    "sum(my_list)"
   ]
  },
  {
   "cell_type": "code",
   "execution_count": 27,
   "id": "8f65460e",
   "metadata": {},
   "outputs": [],
   "source": [
    "#random library"
   ]
  },
  {
   "cell_type": "code",
   "execution_count": 29,
   "id": "990b16fa",
   "metadata": {},
   "outputs": [],
   "source": [
    "from random import shuffle\n"
   ]
  },
  {
   "cell_type": "code",
   "execution_count": 30,
   "id": "c9a31610",
   "metadata": {},
   "outputs": [],
   "source": [
    "shuffle(my_list)"
   ]
  },
  {
   "cell_type": "code",
   "execution_count": 31,
   "id": "e77df821",
   "metadata": {},
   "outputs": [
    {
     "data": {
      "text/plain": [
       "[4, 2, 6, 5, 1, 3]"
      ]
     },
     "execution_count": 31,
     "metadata": {},
     "output_type": "execute_result"
    }
   ],
   "source": [
    "my_list"
   ]
  },
  {
   "cell_type": "code",
   "execution_count": 32,
   "id": "22463530",
   "metadata": {},
   "outputs": [],
   "source": [
    "from random import randint"
   ]
  },
  {
   "cell_type": "code",
   "execution_count": 33,
   "id": "8d38f98c",
   "metadata": {},
   "outputs": [
    {
     "data": {
      "text/plain": [
       "7"
      ]
     },
     "execution_count": 33,
     "metadata": {},
     "output_type": "execute_result"
    }
   ],
   "source": [
    "randint(0,12)\n",
    "#remember it will exclude last value so we can not see 12"
   ]
  },
  {
   "cell_type": "markdown",
   "id": "e1f5bf76",
   "metadata": {},
   "source": [
    "**list comprehenssions**"
   ]
  },
  {
   "cell_type": "code",
   "execution_count": 34,
   "id": "54b9c553",
   "metadata": {},
   "outputs": [],
   "source": [
    "my_list=[letter for letter in \"my name is bhagwati\"]"
   ]
  },
  {
   "cell_type": "code",
   "execution_count": 35,
   "id": "9d0575ed",
   "metadata": {},
   "outputs": [
    {
     "data": {
      "text/plain": [
       "['m',\n",
       " 'y',\n",
       " ' ',\n",
       " 'n',\n",
       " 'a',\n",
       " 'm',\n",
       " 'e',\n",
       " ' ',\n",
       " 'i',\n",
       " 's',\n",
       " ' ',\n",
       " 'b',\n",
       " 'h',\n",
       " 'a',\n",
       " 'g',\n",
       " 'w',\n",
       " 'a',\n",
       " 't',\n",
       " 'i']"
      ]
     },
     "execution_count": 35,
     "metadata": {},
     "output_type": "execute_result"
    }
   ],
   "source": [
    "my_list"
   ]
  },
  {
   "cell_type": "code",
   "execution_count": 37,
   "id": "7a44799d",
   "metadata": {},
   "outputs": [],
   "source": [
    "list=[letter for letter in \"HELLO\"]"
   ]
  },
  {
   "cell_type": "code",
   "execution_count": 38,
   "id": "210074a8",
   "metadata": {},
   "outputs": [
    {
     "data": {
      "text/plain": [
       "['H', 'E', 'L', 'L', 'O']"
      ]
     },
     "execution_count": 38,
     "metadata": {},
     "output_type": "execute_result"
    }
   ],
   "source": [
    "list"
   ]
  },
  {
   "cell_type": "code",
   "execution_count": 39,
   "id": "d69a5c46",
   "metadata": {},
   "outputs": [],
   "source": [
    "my_new_list=[x**2 for x in range(0,6)]"
   ]
  },
  {
   "cell_type": "code",
   "execution_count": 40,
   "id": "d8423cc2",
   "metadata": {},
   "outputs": [
    {
     "data": {
      "text/plain": [
       "[0, 1, 4, 9, 16, 25]"
      ]
     },
     "execution_count": 40,
     "metadata": {},
     "output_type": "execute_result"
    }
   ],
   "source": [
    "my_new_list"
   ]
  },
  {
   "cell_type": "code",
   "execution_count": 42,
   "id": "ec948c9c",
   "metadata": {},
   "outputs": [],
   "source": [
    "#with if condition\n",
    "my_list=[x**2 for x in range(0,6)if x%2==0]"
   ]
  },
  {
   "cell_type": "code",
   "execution_count": 43,
   "id": "39c65794",
   "metadata": {},
   "outputs": [
    {
     "data": {
      "text/plain": [
       "[0, 4, 16]"
      ]
     },
     "execution_count": 43,
     "metadata": {},
     "output_type": "execute_result"
    }
   ],
   "source": [
    "my_list"
   ]
  },
  {
   "cell_type": "code",
   "execution_count": 47,
   "id": "45e60627",
   "metadata": {},
   "outputs": [],
   "source": [
    "#fernhite value with celcius\n",
    "cel=[0,10,20,30]\n",
    "fre=[(9/5*item)+32 for item in cel]"
   ]
  },
  {
   "cell_type": "code",
   "execution_count": 48,
   "id": "5b44f02e",
   "metadata": {},
   "outputs": [
    {
     "data": {
      "text/plain": [
       "[32.0, 50.0, 68.0, 86.0]"
      ]
     },
     "execution_count": 48,
     "metadata": {},
     "output_type": "execute_result"
    }
   ],
   "source": [
    "fre"
   ]
  },
  {
   "cell_type": "code",
   "execution_count": 51,
   "id": "a39f4e7a",
   "metadata": {},
   "outputs": [],
   "source": [
    "#nested list\n",
    "my_list=[x**2 for x in[y**3 for y in range(0,5)]]"
   ]
  },
  {
   "cell_type": "code",
   "execution_count": 52,
   "id": "e057378c",
   "metadata": {},
   "outputs": [
    {
     "data": {
      "text/plain": [
       "[0, 1, 64, 729, 4096]"
      ]
     },
     "execution_count": 52,
     "metadata": {},
     "output_type": "execute_result"
    }
   ],
   "source": [
    "my_list"
   ]
  },
  {
   "cell_type": "code",
   "execution_count": 57,
   "id": "4181f4ae",
   "metadata": {},
   "outputs": [],
   "source": [
    "#starts with\n",
    "st=\"print only those words which starts with w\""
   ]
  },
  {
   "cell_type": "code",
   "execution_count": 58,
   "id": "1ba1c3a3",
   "metadata": {},
   "outputs": [
    {
     "data": {
      "text/plain": [
       "['print', 'only', 'those', 'words', 'which', 'starts', 'with', 'w']"
      ]
     },
     "execution_count": 58,
     "metadata": {},
     "output_type": "execute_result"
    }
   ],
   "source": [
    "st.split()"
   ]
  },
  {
   "cell_type": "code",
   "execution_count": 59,
   "id": "e51665a2",
   "metadata": {},
   "outputs": [
    {
     "name": "stdout",
     "output_type": "stream",
     "text": [
      "words\n",
      "which\n",
      "with\n",
      "w\n"
     ]
    }
   ],
   "source": [
    "for letter in st.split():\n",
    "    if letter.startswith('w'):\n",
    "        \n",
    "        print(letter)"
   ]
  },
  {
   "cell_type": "code",
   "execution_count": null,
   "id": "6e810e04",
   "metadata": {},
   "outputs": [],
   "source": []
  }
 ],
 "metadata": {
  "kernelspec": {
   "display_name": "Python 3",
   "language": "python",
   "name": "python3"
  },
  "language_info": {
   "codemirror_mode": {
    "name": "ipython",
    "version": 3
   },
   "file_extension": ".py",
   "mimetype": "text/x-python",
   "name": "python",
   "nbconvert_exporter": "python",
   "pygments_lexer": "ipython3",
   "version": "3.8.8"
  }
 },
 "nbformat": 4,
 "nbformat_minor": 5
}
