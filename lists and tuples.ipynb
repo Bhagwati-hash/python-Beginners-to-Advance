{
 "cells": [
  {
   "cell_type": "markdown",
   "id": "cf67be0f",
   "metadata": {},
   "source": [
    "List is like a sequence in python. Strings are immutable while lists are mutable ,meaning the element inside a list can be changed\n",
    "1). creating lists\n",
    "2). indexing and slicing lists\n",
    "3). Basic lists methods\n",
    "4). nesting lists\n",
    "lists are constructed with[] and commas seperating every element in the list"
   ]
  },
  {
   "cell_type": "code",
   "execution_count": 1,
   "id": "b75986a3",
   "metadata": {},
   "outputs": [],
   "source": [
    "list_1=[1,2,3,'bhagwan','shiv','robert',19.3]"
   ]
  },
  {
   "cell_type": "code",
   "execution_count": 2,
   "id": "92280acf",
   "metadata": {},
   "outputs": [
    {
     "data": {
      "text/plain": [
       "[1, 2, 3, 'bhagwan', 'shiv', 'robert', 19.3]"
      ]
     },
     "execution_count": 2,
     "metadata": {},
     "output_type": "execute_result"
    }
   ],
   "source": [
    "list_1"
   ]
  },
  {
   "cell_type": "code",
   "execution_count": 3,
   "id": "fb871fb6",
   "metadata": {},
   "outputs": [
    {
     "data": {
      "text/plain": [
       "list"
      ]
     },
     "execution_count": 3,
     "metadata": {},
     "output_type": "execute_result"
    }
   ],
   "source": [
    "type(list_1)"
   ]
  },
  {
   "cell_type": "code",
   "execution_count": 4,
   "id": "c2f5430f",
   "metadata": {},
   "outputs": [],
   "source": [
    "list_1[3]='bhagwati'"
   ]
  },
  {
   "cell_type": "code",
   "execution_count": 5,
   "id": "c4082c72",
   "metadata": {},
   "outputs": [
    {
     "data": {
      "text/plain": [
       "[1, 2, 3, 'bhagwati', 'shiv', 'robert', 19.3]"
      ]
     },
     "execution_count": 5,
     "metadata": {},
     "output_type": "execute_result"
    }
   ],
   "source": [
    "list_1"
   ]
  },
  {
   "cell_type": "code",
   "execution_count": 6,
   "id": "b2d28322",
   "metadata": {},
   "outputs": [
    {
     "data": {
      "text/plain": [
       "7"
      ]
     },
     "execution_count": 6,
     "metadata": {},
     "output_type": "execute_result"
    }
   ],
   "source": [
    "#length method\n",
    "len(list_1)"
   ]
  },
  {
   "cell_type": "markdown",
   "id": "dd71dc12",
   "metadata": {},
   "source": [
    "**indexing and slicing**"
   ]
  },
  {
   "cell_type": "code",
   "execution_count": 7,
   "id": "440ad872",
   "metadata": {},
   "outputs": [
    {
     "data": {
      "text/plain": [
       "[1, 2, 3, 'bhagwati', 'shiv', 'robert', 19.3]"
      ]
     },
     "execution_count": 7,
     "metadata": {},
     "output_type": "execute_result"
    }
   ],
   "source": [
    "list_1"
   ]
  },
  {
   "cell_type": "code",
   "execution_count": 8,
   "id": "3faeafac",
   "metadata": {},
   "outputs": [
    {
     "data": {
      "text/plain": [
       "[1, 2, 3, 'bhagwati']"
      ]
     },
     "execution_count": 8,
     "metadata": {},
     "output_type": "execute_result"
    }
   ],
   "source": [
    "list_1[:4]"
   ]
  },
  {
   "cell_type": "code",
   "execution_count": 9,
   "id": "8135a48c",
   "metadata": {},
   "outputs": [
    {
     "data": {
      "text/plain": [
       "19.3"
      ]
     },
     "execution_count": 9,
     "metadata": {},
     "output_type": "execute_result"
    }
   ],
   "source": [
    "list_1[-1]"
   ]
  },
  {
   "cell_type": "code",
   "execution_count": 10,
   "id": "55377383",
   "metadata": {},
   "outputs": [
    {
     "data": {
      "text/plain": [
       "'bhagwati'"
      ]
     },
     "execution_count": 10,
     "metadata": {},
     "output_type": "execute_result"
    }
   ],
   "source": [
    "list_1[3]"
   ]
  },
  {
   "cell_type": "code",
   "execution_count": 11,
   "id": "022bce1d",
   "metadata": {},
   "outputs": [
    {
     "data": {
      "text/plain": [
       "[1, 3, 'shiv', 19.3]"
      ]
     },
     "execution_count": 11,
     "metadata": {},
     "output_type": "execute_result"
    }
   ],
   "source": [
    "list_1[::2]"
   ]
  },
  {
   "cell_type": "code",
   "execution_count": 12,
   "id": "cee8943b",
   "metadata": {},
   "outputs": [
    {
     "data": {
      "text/plain": [
       "[1, 2, 3, 'bhagwati', 'shiv', 'robert', 19.3, 30, 40]"
      ]
     },
     "execution_count": 12,
     "metadata": {},
     "output_type": "execute_result"
    }
   ],
   "source": [
    "list_1+[30,40]"
   ]
  },
  {
   "cell_type": "code",
   "execution_count": 13,
   "id": "da4de279",
   "metadata": {},
   "outputs": [
    {
     "data": {
      "text/plain": [
       "[1, 2, 3, 'bhagwati', 'shiv', 'robert', 19.3]"
      ]
     },
     "execution_count": 13,
     "metadata": {},
     "output_type": "execute_result"
    }
   ],
   "source": [
    "list_1"
   ]
  },
  {
   "cell_type": "code",
   "execution_count": 14,
   "id": "a61351a1",
   "metadata": {},
   "outputs": [],
   "source": [
    "my_list=list_1+[30,40]"
   ]
  },
  {
   "cell_type": "code",
   "execution_count": 15,
   "id": "e7bf7395",
   "metadata": {},
   "outputs": [
    {
     "data": {
      "text/plain": [
       "[1, 2, 3, 'bhagwati', 'shiv', 'robert', 19.3, 30, 40]"
      ]
     },
     "execution_count": 15,
     "metadata": {},
     "output_type": "execute_result"
    }
   ],
   "source": [
    "my_list"
   ]
  },
  {
   "cell_type": "code",
   "execution_count": 16,
   "id": "c29eaa14",
   "metadata": {},
   "outputs": [
    {
     "name": "stdout",
     "output_type": "stream",
     "text": [
      "[1, 2, 3, 'bhagwati', 'shiv', 'robert', 19.3, 30, 40, 1, 2, 3, 'bhagwati', 'shiv', 'robert', 19.3, 30, 40]\n"
     ]
    }
   ],
   "source": [
    "#multiplication in list\n",
    "my_list*2\n",
    "print(my_list*2)"
   ]
  },
  {
   "cell_type": "markdown",
   "id": "29b0b97c",
   "metadata": {},
   "source": [
    "**list methods**"
   ]
  },
  {
   "cell_type": "code",
   "execution_count": 17,
   "id": "090ba0ca",
   "metadata": {},
   "outputs": [],
   "source": [
    "list=[1,2,3,4,8,70,'bhagwati','mathpal']"
   ]
  },
  {
   "cell_type": "code",
   "execution_count": 18,
   "id": "0b596a1f",
   "metadata": {},
   "outputs": [
    {
     "data": {
      "text/plain": [
       "[1, 2, 3, 4, 8, 70, 'bhagwati', 'mathpal']"
      ]
     },
     "execution_count": 18,
     "metadata": {},
     "output_type": "execute_result"
    }
   ],
   "source": [
    "list"
   ]
  },
  {
   "cell_type": "code",
   "execution_count": 19,
   "id": "0688054d",
   "metadata": {},
   "outputs": [],
   "source": [
    "#append\n",
    "list.append(100)"
   ]
  },
  {
   "cell_type": "code",
   "execution_count": 20,
   "id": "7fde51fb",
   "metadata": {},
   "outputs": [
    {
     "data": {
      "text/plain": [
       "[1, 2, 3, 4, 8, 70, 'bhagwati', 'mathpal', 100]"
      ]
     },
     "execution_count": 20,
     "metadata": {},
     "output_type": "execute_result"
    }
   ],
   "source": [
    "list"
   ]
  },
  {
   "cell_type": "code",
   "execution_count": 21,
   "id": "03a252f8",
   "metadata": {},
   "outputs": [],
   "source": [
    "list.append('tejas')"
   ]
  },
  {
   "cell_type": "code",
   "execution_count": 22,
   "id": "b581e5c3",
   "metadata": {},
   "outputs": [
    {
     "data": {
      "text/plain": [
       "[1, 2, 3, 4, 8, 70, 'bhagwati', 'mathpal', 100, 'tejas']"
      ]
     },
     "execution_count": 22,
     "metadata": {},
     "output_type": "execute_result"
    }
   ],
   "source": [
    "list"
   ]
  },
  {
   "cell_type": "code",
   "execution_count": 23,
   "id": "f0ddc9e2",
   "metadata": {},
   "outputs": [],
   "source": [
    "#extend method when we want to use more than 1 value\n",
    "list.extend([10,30,70,'papa','god'])"
   ]
  },
  {
   "cell_type": "code",
   "execution_count": 24,
   "id": "afb62f63",
   "metadata": {},
   "outputs": [
    {
     "name": "stdout",
     "output_type": "stream",
     "text": [
      "[1, 2, 3, 4, 8, 70, 'bhagwati', 'mathpal', 100, 'tejas', 10, 30, 70, 'papa', 'god']\n"
     ]
    }
   ],
   "source": [
    "print(list)"
   ]
  },
  {
   "cell_type": "code",
   "execution_count": 25,
   "id": "8fa711e8",
   "metadata": {},
   "outputs": [
    {
     "data": {
      "text/plain": [
       "8"
      ]
     },
     "execution_count": 25,
     "metadata": {},
     "output_type": "execute_result"
    }
   ],
   "source": [
    "#pop method it will extract or delete the last value in the list\n",
    "list.pop(4)"
   ]
  },
  {
   "cell_type": "code",
   "execution_count": 26,
   "id": "e4b82349",
   "metadata": {},
   "outputs": [
    {
     "name": "stdout",
     "output_type": "stream",
     "text": [
      "[1, 2, 3, 4, 70, 'bhagwati', 'mathpal', 100, 'tejas', 10, 30, 70, 'papa', 'god']\n"
     ]
    }
   ],
   "source": [
    "print(list)"
   ]
  },
  {
   "cell_type": "code",
   "execution_count": 27,
   "id": "18097beb",
   "metadata": {},
   "outputs": [],
   "source": [
    "list2=[1,2,3,4,5]"
   ]
  },
  {
   "cell_type": "code",
   "execution_count": 28,
   "id": "7b7fc082",
   "metadata": {},
   "outputs": [],
   "source": [
    "#reverse function\n",
    "list2.reverse()"
   ]
  },
  {
   "cell_type": "code",
   "execution_count": 29,
   "id": "694efe1c",
   "metadata": {},
   "outputs": [
    {
     "data": {
      "text/plain": [
       "[5, 4, 3, 2, 1]"
      ]
     },
     "execution_count": 29,
     "metadata": {},
     "output_type": "execute_result"
    }
   ],
   "source": [
    "list2"
   ]
  },
  {
   "cell_type": "code",
   "execution_count": 30,
   "id": "f6f6776b",
   "metadata": {},
   "outputs": [],
   "source": [
    "#sortmethod\n",
    "list=[1,7,8,4,6,10]"
   ]
  },
  {
   "cell_type": "code",
   "execution_count": 31,
   "id": "3bf48568",
   "metadata": {},
   "outputs": [],
   "source": [
    "list.sort()"
   ]
  },
  {
   "cell_type": "code",
   "execution_count": 32,
   "id": "ef213197",
   "metadata": {},
   "outputs": [
    {
     "data": {
      "text/plain": [
       "[1, 4, 6, 7, 8, 10]"
      ]
     },
     "execution_count": 32,
     "metadata": {},
     "output_type": "execute_result"
    }
   ],
   "source": [
    "list"
   ]
  },
  {
   "cell_type": "code",
   "execution_count": 33,
   "id": "645365a1",
   "metadata": {},
   "outputs": [],
   "source": [
    "#nested lists\n",
    "list1=[1,2,3]\n",
    "list2=[4,5,6]\n",
    "list3=[7,8,9]"
   ]
  },
  {
   "cell_type": "code",
   "execution_count": 34,
   "id": "4eb0c18e",
   "metadata": {},
   "outputs": [],
   "source": [
    "lists=[list1,list2,list3]"
   ]
  },
  {
   "cell_type": "code",
   "execution_count": 35,
   "id": "32c99d76",
   "metadata": {},
   "outputs": [
    {
     "data": {
      "text/plain": [
       "[[1, 2, 3], [4, 5, 6], [7, 8, 9]]"
      ]
     },
     "execution_count": 35,
     "metadata": {},
     "output_type": "execute_result"
    }
   ],
   "source": [
    "lists"
   ]
  },
  {
   "cell_type": "code",
   "execution_count": 36,
   "id": "673ca41b",
   "metadata": {},
   "outputs": [
    {
     "data": {
      "text/plain": [
       "6"
      ]
     },
     "execution_count": 36,
     "metadata": {},
     "output_type": "execute_result"
    }
   ],
   "source": [
    "lists[1][2]"
   ]
  },
  {
   "cell_type": "markdown",
   "id": "b4cdcea8",
   "metadata": {},
   "source": [
    "**Tuples**"
   ]
  },
  {
   "cell_type": "markdown",
   "id": "6a520d17",
   "metadata": {},
   "source": [
    "now we now that strings are immutable while dictioneries and lists are mutable simmilarly tupless are aslo immutable\n",
    "so it can be used for example in case of days in a week , months in a year,discount rates to be used etc. tuples will start with()\n",
    "1) constructing tuples\n",
    "2) basic tuples method\n",
    "3) immutability\n",
    "4) when to use tuples"
   ]
  },
  {
   "cell_type": "code",
   "execution_count": 37,
   "id": "b7f79b41",
   "metadata": {},
   "outputs": [],
   "source": [
    "my_tuple=(1,2,3,'abc','after')"
   ]
  },
  {
   "cell_type": "code",
   "execution_count": 38,
   "id": "f04c5e8f",
   "metadata": {},
   "outputs": [
    {
     "data": {
      "text/plain": [
       "3"
      ]
     },
     "execution_count": 38,
     "metadata": {},
     "output_type": "execute_result"
    }
   ],
   "source": [
    "my_tuple[2]"
   ]
  },
  {
   "cell_type": "code",
   "execution_count": 39,
   "id": "0869dba1",
   "metadata": {},
   "outputs": [
    {
     "data": {
      "text/plain": [
       "(2, 3)"
      ]
     },
     "execution_count": 39,
     "metadata": {},
     "output_type": "execute_result"
    }
   ],
   "source": [
    "my_tuple[1:3]"
   ]
  },
  {
   "cell_type": "code",
   "execution_count": 40,
   "id": "0abc6bec",
   "metadata": {},
   "outputs": [
    {
     "data": {
      "text/plain": [
       "(1, 3, 'after')"
      ]
     },
     "execution_count": 40,
     "metadata": {},
     "output_type": "execute_result"
    }
   ],
   "source": [
    "my_tuple[::2]"
   ]
  },
  {
   "cell_type": "code",
   "execution_count": 41,
   "id": "0feac334",
   "metadata": {},
   "outputs": [],
   "source": [
    "#methods in tuples\n",
    "tuple=(1,2,3,4,5,'a','b','c','d')"
   ]
  },
  {
   "cell_type": "code",
   "execution_count": 42,
   "id": "cd091f40",
   "metadata": {},
   "outputs": [
    {
     "data": {
      "text/plain": [
       "(1, 2, 3, 4, 5, 'a', 'b', 'c', 'd')"
      ]
     },
     "execution_count": 42,
     "metadata": {},
     "output_type": "execute_result"
    }
   ],
   "source": [
    "tuple"
   ]
  },
  {
   "cell_type": "code",
   "execution_count": 43,
   "id": "4b6af6f3",
   "metadata": {},
   "outputs": [
    {
     "data": {
      "text/plain": [
       "7"
      ]
     },
     "execution_count": 43,
     "metadata": {},
     "output_type": "execute_result"
    }
   ],
   "source": [
    "tuple.index('c')"
   ]
  },
  {
   "cell_type": "code",
   "execution_count": 44,
   "id": "e3a55d2c",
   "metadata": {},
   "outputs": [
    {
     "data": {
      "text/plain": [
       "2"
      ]
     },
     "execution_count": 44,
     "metadata": {},
     "output_type": "execute_result"
    }
   ],
   "source": [
    "tuple.index(3)"
   ]
  },
  {
   "cell_type": "code",
   "execution_count": 45,
   "id": "62e363fe",
   "metadata": {},
   "outputs": [],
   "source": [
    "y=(1,1,2,2,2,2,2,3,4)"
   ]
  },
  {
   "cell_type": "code",
   "execution_count": 46,
   "id": "1366a66d",
   "metadata": {},
   "outputs": [
    {
     "data": {
      "text/plain": [
       "5"
      ]
     },
     "execution_count": 46,
     "metadata": {},
     "output_type": "execute_result"
    }
   ],
   "source": [
    "y.count(2)"
   ]
  },
  {
   "cell_type": "code",
   "execution_count": null,
   "id": "9eafb9e3",
   "metadata": {},
   "outputs": [],
   "source": []
  },
  {
   "cell_type": "code",
   "execution_count": null,
   "id": "6515cd3b",
   "metadata": {},
   "outputs": [],
   "source": []
  },
  {
   "cell_type": "code",
   "execution_count": null,
   "id": "1d54f7ae",
   "metadata": {},
   "outputs": [],
   "source": []
  }
 ],
 "metadata": {
  "kernelspec": {
   "display_name": "Python 3",
   "language": "python",
   "name": "python3"
  },
  "language_info": {
   "codemirror_mode": {
    "name": "ipython",
    "version": 3
   },
   "file_extension": ".py",
   "mimetype": "text/x-python",
   "name": "python",
   "nbconvert_exporter": "python",
   "pygments_lexer": "ipython3",
   "version": "3.8.8"
  }
 },
 "nbformat": 4,
 "nbformat_minor": 5
}
