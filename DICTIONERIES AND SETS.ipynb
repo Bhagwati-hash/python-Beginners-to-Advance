{
 "cells": [
  {
   "cell_type": "markdown",
   "id": "8458e4ee",
   "metadata": {},
   "source": [
    "# Dictonaries"
   ]
  },
  {
   "cell_type": "code",
   "execution_count": 1,
   "id": "1a4a3d76",
   "metadata": {},
   "outputs": [],
   "source": [
    "#string is start with \" \", immutable\n",
    "#list start with[], mutable, sequence in python\n",
    "#tuples start with(),immutable ,sequence in python\n",
    "# dictoneries start with{} ,mutable,"
   ]
  },
  {
   "cell_type": "code",
   "execution_count": 3,
   "id": "b69fcbd9",
   "metadata": {},
   "outputs": [],
   "source": [
    "#constructing dictionary\n",
    "my_dict={'key1':'value1','key2':'value2'}\n"
   ]
  },
  {
   "cell_type": "code",
   "execution_count": 4,
   "id": "07ee2cc1",
   "metadata": {},
   "outputs": [],
   "source": [
    "\n",
    "policy_dic={'product':'term assurance','tenure':[10,20,30]}"
   ]
  },
  {
   "cell_type": "code",
   "execution_count": 5,
   "id": "bb64e7ba",
   "metadata": {},
   "outputs": [],
   "source": [
    "#adding element to preformed dictionary\n",
    "policy_dic['premium']=10000"
   ]
  },
  {
   "cell_type": "code",
   "execution_count": 6,
   "id": "58dcbba7",
   "metadata": {},
   "outputs": [
    {
     "data": {
      "text/plain": [
       "{'product': 'term assurance', 'tenure': [10, 20, 30], 'premium': 10000}"
      ]
     },
     "execution_count": 6,
     "metadata": {},
     "output_type": "execute_result"
    }
   ],
   "source": [
    "policy_dic"
   ]
  },
  {
   "cell_type": "code",
   "execution_count": 10,
   "id": "2559a09a",
   "metadata": {},
   "outputs": [
    {
     "data": {
      "text/plain": [
       "'term assurance'"
      ]
     },
     "execution_count": 10,
     "metadata": {},
     "output_type": "execute_result"
    }
   ],
   "source": [
    "policy_dic['product']"
   ]
  },
  {
   "cell_type": "code",
   "execution_count": 11,
   "id": "f3b86f4a",
   "metadata": {},
   "outputs": [],
   "source": [
    "#how to add value key value pair in a blanck dictionary\n",
    "dic2={}"
   ]
  },
  {
   "cell_type": "code",
   "execution_count": 12,
   "id": "c021b1ad",
   "metadata": {},
   "outputs": [],
   "source": [
    "dic2['componey name']=['xyz','abc']"
   ]
  },
  {
   "cell_type": "code",
   "execution_count": 14,
   "id": "fde89afb",
   "metadata": {},
   "outputs": [
    {
     "data": {
      "text/plain": [
       "{'componey name': ['xyz', 'abc']}"
      ]
     },
     "execution_count": 14,
     "metadata": {},
     "output_type": "execute_result"
    }
   ],
   "source": [
    "dic2"
   ]
  },
  {
   "cell_type": "code",
   "execution_count": 16,
   "id": "93fd7ab3",
   "metadata": {},
   "outputs": [],
   "source": [
    "dic2['number of employee']=20000\n",
    "dic2['number of department']=['finance','auditing','revenue']\n"
   ]
  },
  {
   "cell_type": "code",
   "execution_count": 17,
   "id": "97522975",
   "metadata": {},
   "outputs": [
    {
     "data": {
      "text/plain": [
       "{'componey name': ['xyz', 'abc'],\n",
       " 'number of employee': 20000,\n",
       " 'number of department': ['finance', 'auditing', 'revenue']}"
      ]
     },
     "execution_count": 17,
     "metadata": {},
     "output_type": "execute_result"
    }
   ],
   "source": [
    "dic2"
   ]
  },
  {
   "cell_type": "markdown",
   "id": "e4691bbe",
   "metadata": {},
   "source": [
    "**nested dictionaries (dictionary with in dictonary)**"
   ]
  },
  {
   "cell_type": "code",
   "execution_count": 18,
   "id": "918ebffa",
   "metadata": {},
   "outputs": [],
   "source": [
    "dic3={'life products':{'universal life':['vul','iul']}}"
   ]
  },
  {
   "cell_type": "code",
   "execution_count": 19,
   "id": "aad20237",
   "metadata": {},
   "outputs": [
    {
     "data": {
      "text/plain": [
       "'iul'"
      ]
     },
     "execution_count": 19,
     "metadata": {},
     "output_type": "execute_result"
    }
   ],
   "source": [
    "#if i want to extraxt iul from dic3\n",
    "dic3['life products']['universal life'][1]"
   ]
  },
  {
   "cell_type": "markdown",
   "id": "6bfbb8cc",
   "metadata": {},
   "source": [
    "**dictonary methods**"
   ]
  },
  {
   "cell_type": "code",
   "execution_count": 21,
   "id": "2ccf318b",
   "metadata": {},
   "outputs": [],
   "source": [
    "d1={'bird':'huming','speed':'120kmph'}"
   ]
  },
  {
   "cell_type": "code",
   "execution_count": 22,
   "id": "d294a815",
   "metadata": {},
   "outputs": [
    {
     "data": {
      "text/plain": [
       "'HUMING'"
      ]
     },
     "execution_count": 22,
     "metadata": {},
     "output_type": "execute_result"
    }
   ],
   "source": [
    "#upper method\n",
    "d1['bird'].upper()"
   ]
  },
  {
   "cell_type": "code",
   "execution_count": 24,
   "id": "47a9cd10",
   "metadata": {},
   "outputs": [
    {
     "data": {
      "text/plain": [
       "dict_keys(['bird', 'speed'])"
      ]
     },
     "execution_count": 24,
     "metadata": {},
     "output_type": "execute_result"
    }
   ],
   "source": [
    "d1.keys()"
   ]
  },
  {
   "cell_type": "code",
   "execution_count": 25,
   "id": "b8ad2cbd",
   "metadata": {},
   "outputs": [
    {
     "data": {
      "text/plain": [
       "dict_values(['huming', '120kmph'])"
      ]
     },
     "execution_count": 25,
     "metadata": {},
     "output_type": "execute_result"
    }
   ],
   "source": [
    "d1.values()"
   ]
  },
  {
   "cell_type": "code",
   "execution_count": 26,
   "id": "007dbbf7",
   "metadata": {},
   "outputs": [
    {
     "data": {
      "text/plain": [
       "dict_items([('bird', 'huming'), ('speed', '120kmph')])"
      ]
     },
     "execution_count": 26,
     "metadata": {},
     "output_type": "execute_result"
    }
   ],
   "source": [
    "d1.items()"
   ]
  },
  {
   "cell_type": "markdown",
   "id": "2a766d55",
   "metadata": {},
   "source": [
    "# sets"
   ]
  },
  {
   "cell_type": "code",
   "execution_count": 27,
   "id": "58eeab34",
   "metadata": {},
   "outputs": [],
   "source": [
    "# start with {} but they are not dictionary , we acan say they are dictionary with only key values, key values are unique"
   ]
  },
  {
   "cell_type": "code",
   "execution_count": 28,
   "id": "fc36a067",
   "metadata": {},
   "outputs": [],
   "source": [
    "my_set={1,1,1,2,3,2,'papa','mummy','papa'}"
   ]
  },
  {
   "cell_type": "code",
   "execution_count": 29,
   "id": "656f1c02",
   "metadata": {},
   "outputs": [
    {
     "data": {
      "text/plain": [
       "{1, 2, 3, 'mummy', 'papa'}"
      ]
     },
     "execution_count": 29,
     "metadata": {},
     "output_type": "execute_result"
    }
   ],
   "source": [
    "my_set"
   ]
  },
  {
   "cell_type": "code",
   "execution_count": 30,
   "id": "9b60727c",
   "metadata": {},
   "outputs": [],
   "source": [
    "#type casting from list to set\n"
   ]
  },
  {
   "cell_type": "code",
   "execution_count": 33,
   "id": "a748c817",
   "metadata": {},
   "outputs": [],
   "source": [
    "list=[1,1,1,2,3,4,4,'papa','papa','mummy']"
   ]
  },
  {
   "cell_type": "code",
   "execution_count": 34,
   "id": "5c402f2a",
   "metadata": {},
   "outputs": [
    {
     "data": {
      "text/plain": [
       "[1, 1, 1, 2, 3, 4, 4, 'papa', 'papa', 'mummy']"
      ]
     },
     "execution_count": 34,
     "metadata": {},
     "output_type": "execute_result"
    }
   ],
   "source": [
    "list"
   ]
  },
  {
   "cell_type": "code",
   "execution_count": 35,
   "id": "40c9ea2d",
   "metadata": {},
   "outputs": [
    {
     "data": {
      "text/plain": [
       "{1, 2, 3, 4, 'mummy', 'papa'}"
      ]
     },
     "execution_count": 35,
     "metadata": {},
     "output_type": "execute_result"
    }
   ],
   "source": [
    "set(list)"
   ]
  },
  {
   "cell_type": "code",
   "execution_count": 36,
   "id": "c2d5f34d",
   "metadata": {},
   "outputs": [
    {
     "data": {
      "text/plain": [
       "{1, 2, 3, 'mummy', 'papa'}"
      ]
     },
     "execution_count": 36,
     "metadata": {},
     "output_type": "execute_result"
    }
   ],
   "source": [
    "my_set"
   ]
  },
  {
   "cell_type": "code",
   "execution_count": 37,
   "id": "5790da23",
   "metadata": {},
   "outputs": [],
   "source": [
    "my_set.add('c')"
   ]
  },
  {
   "cell_type": "code",
   "execution_count": 38,
   "id": "c47982a1",
   "metadata": {},
   "outputs": [
    {
     "data": {
      "text/plain": [
       "{1, 2, 3, 'c', 'mummy', 'papa'}"
      ]
     },
     "execution_count": 38,
     "metadata": {},
     "output_type": "execute_result"
    }
   ],
   "source": [
    "my_set"
   ]
  },
  {
   "cell_type": "code",
   "execution_count": null,
   "id": "e9928c66",
   "metadata": {},
   "outputs": [],
   "source": []
  }
 ],
 "metadata": {
  "kernelspec": {
   "display_name": "Python 3",
   "language": "python",
   "name": "python3"
  },
  "language_info": {
   "codemirror_mode": {
    "name": "ipython",
    "version": 3
   },
   "file_extension": ".py",
   "mimetype": "text/x-python",
   "name": "python",
   "nbconvert_exporter": "python",
   "pygments_lexer": "ipython3",
   "version": "3.8.8"
  }
 },
 "nbformat": 4,
 "nbformat_minor": 5
}
